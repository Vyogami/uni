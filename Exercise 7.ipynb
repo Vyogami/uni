{
 "cells": [
  {
   "cell_type": "markdown",
   "metadata": {
    "id": "iJ0ZKrDxffoG"
   },
   "source": [
    "#**Importing Necessary libraries**\n"
   ]
  },
  {
   "cell_type": "code",
   "execution_count": 2,
   "metadata": {
    "executionInfo": {
     "elapsed": 4700,
     "status": "ok",
     "timestamp": 1684231837872,
     "user": {
      "displayName": "KARNATI MOHAN",
      "userId": "16604712269571437600"
     },
     "user_tz": -330
    },
    "id": "7iXDJSIGjjn-"
   },
   "outputs": [],
   "source": [
    "import pandas as pd    # to load dataset\n",
    "import numpy as np     # for mathematic equation\n",
    "from nltk.corpus import stopwords   # to get collection of stopwords\n",
    "from sklearn.model_selection import train_test_split       # for splitting dataset\n",
    "from tensorflow.keras.preprocessing.text import Tokenizer  # to encode text to int\n",
    "from tensorflow.keras.preprocessing.sequence import pad_sequences   # to do padding or truncating\n",
    "from tensorflow.keras.models import Sequential     # the model\n",
    "from tensorflow.keras.layers import Embedding, LSTM, Dense # layers of the architecture\n",
    "from tensorflow.keras.callbacks import ModelCheckpoint   # save model\n",
    "from tensorflow.keras.models import load_model   # load saved model\n",
    "import re\n",
    "from keras.layers import SimpleRNN"
   ]
  },
  {
   "cell_type": "markdown",
   "metadata": {
    "id": "yzRVuD3qkGvD"
   },
   "source": [
    "# **Preparing the data named IMDB**"
   ]
  },
  {
   "cell_type": "code",
   "execution_count": 3,
   "metadata": {
    "colab": {
     "base_uri": "https://localhost:8080/"
    },
    "executionInfo": {
     "elapsed": 1681,
     "status": "ok",
     "timestamp": 1684231839549,
     "user": {
      "displayName": "KARNATI MOHAN",
      "userId": "16604712269571437600"
     },
     "user_tz": -330
    },
    "id": "RI03JfP7kEKA",
    "outputId": "7d9cfb0e-5ac8-4c11-ce7f-5fd56b2a28cc"
   },
   "outputs": [
    {
     "name": "stdout",
     "output_type": "stream",
     "text": [
      "                                                  review sentiment\n",
      "0      One of the other reviewers has mentioned that ...  positive\n",
      "1      A wonderful little production. <br /><br />The...  positive\n",
      "2      I thought this was a wonderful way to spend ti...  positive\n",
      "3      Basically there's a family where a little boy ...  negative\n",
      "4      Petter Mattei's \"Love in the Time of Money\" is...  positive\n",
      "...                                                  ...       ...\n",
      "49995  I thought this movie did a down right good job...  positive\n",
      "49996  Bad plot, bad dialogue, bad acting, idiotic di...  negative\n",
      "49997  I am a Catholic taught in parochial elementary...  negative\n",
      "49998  I'm going to have to disagree with the previou...  negative\n",
      "49999  No one expects the Star Trek movies to be high...  negative\n",
      "\n",
      "[50000 rows x 2 columns]\n"
     ]
    }
   ],
   "source": [
    "data = pd.read_csv('/content/drive/MyDrive/AMITY/Deep Learning (codes)/Data/IMDB Dataset.csv')\n",
    "print(data)"
   ]
  },
  {
   "cell_type": "markdown",
   "metadata": {
    "id": "B4KcdMAKtQan"
   },
   "source": [
    "Stop Word is a commonly used words in a sentence, usually a search engine is programmed to ignore this words (i.e. \"the\", \"a\", \"an\", \"of\", etc.)\n",
    "Declaring the english stop words"
   ]
  },
  {
   "cell_type": "code",
   "execution_count": 4,
   "metadata": {
    "colab": {
     "base_uri": "https://localhost:8080/"
    },
    "executionInfo": {
     "elapsed": 5,
     "status": "ok",
     "timestamp": 1684231839549,
     "user": {
      "displayName": "KARNATI MOHAN",
      "userId": "16604712269571437600"
     },
     "user_tz": -330
    },
    "id": "xjJrIijipG5D",
    "outputId": "ebbb2feb-153b-4600-daf4-bc69a2120043"
   },
   "outputs": [
    {
     "name": "stderr",
     "output_type": "stream",
     "text": [
      "[nltk_data] Downloading package stopwords to /root/nltk_data...\n",
      "[nltk_data]   Unzipping corpora/stopwords.zip.\n"
     ]
    }
   ],
   "source": [
    "import nltk\n",
    "nltk.download(\"stopwords\")\n",
    "english_stops = set(stopwords.words('english'))"
   ]
  },
  {
   "cell_type": "markdown",
   "metadata": {
    "id": "PlWrgDKttZC1"
   },
   "source": [
    "# **Load and Clean Dataset**\n",
    "**In the original dataset, the reviews are still dirty. There are still html tags, numbers, uppercase, and punctuations. This will not be good for training, so in load_dataset() function, beside loading the dataset using pandas, I also pre-process the reviews by removing html tags, non alphabet (punctuations and numbers), stop words, and lower case all of the reviews.**\n",
    "\n",
    "# **Encode Sentiments**\n",
    "**In the same function, We also encode the sentiments into integers (0 and 1). Where 0 is for negative sentiments and 1 is for positive sentiments.**"
   ]
  },
  {
   "cell_type": "code",
   "execution_count": 5,
   "metadata": {
    "colab": {
     "base_uri": "https://localhost:8080/"
    },
    "executionInfo": {
     "elapsed": 8335,
     "status": "ok",
     "timestamp": 1684231847882,
     "user": {
      "displayName": "KARNATI MOHAN",
      "userId": "16604712269571437600"
     },
     "user_tz": -330
    },
    "id": "NM_5RjUNqa-s",
    "outputId": "30d7113d-cc6c-4202-b18c-97da68053e0e"
   },
   "outputs": [
    {
     "name": "stdout",
     "output_type": "stream",
     "text": [
      "Reviews\n",
      "0        [one, reviewers, mentioned, watching, oz, epis...\n",
      "1        [a, wonderful, little, production, the, filmin...\n",
      "2        [i, thought, wonderful, way, spend, time, hot,...\n",
      "3        [basically, family, little, boy, jake, thinks,...\n",
      "4        [petter, mattei, love, time, money, visually, ...\n",
      "                               ...                        \n",
      "49995    [i, thought, movie, right, good, job, it, crea...\n",
      "49996    [bad, plot, bad, dialogue, bad, acting, idioti...\n",
      "49997    [i, catholic, taught, parochial, elementary, s...\n",
      "49998    [i, going, disagree, previous, comment, side, ...\n",
      "49999    [no, one, expects, star, trek, movies, high, a...\n",
      "Name: review, Length: 50000, dtype: object \n",
      "\n",
      "Sentiment\n",
      "0        1\n",
      "1        1\n",
      "2        1\n",
      "3        0\n",
      "4        1\n",
      "        ..\n",
      "49995    1\n",
      "49996    0\n",
      "49997    0\n",
      "49998    0\n",
      "49999    0\n",
      "Name: sentiment, Length: 50000, dtype: int64\n"
     ]
    }
   ],
   "source": [
    "def load_dataset():\n",
    "    df = pd.read_csv('/content/drive/MyDrive/AMITY/Deep Learning (codes)/Data/IMDB Dataset.csv')\n",
    "    x_data = df['review']       # Reviews/Input\n",
    "    y_data = df['sentiment']    # Sentiment/Output\n",
    "\n",
    "    # PRE-PROCESS REVIEW\n",
    "    x_data = x_data.replace({'<.*?>': ''}, regex = True)          # remove html tag\n",
    "    x_data = x_data.replace({'[^A-Za-z]': ' '}, regex = True)     # remove non alphabet\n",
    "    x_data = x_data.apply(lambda review: [w for w in review.split() if w not in english_stops])  # remove stop words\n",
    "    x_data = x_data.apply(lambda review: [w.lower() for w in review])   # lower case\n",
    "    \n",
    "    # ENCODE SENTIMENT -> 0 & 1\n",
    "    y_data = y_data.replace('positive', 1)\n",
    "    y_data = y_data.replace('negative', 0)\n",
    "\n",
    "    return x_data, y_data\n",
    "\n",
    "x_data, y_data = load_dataset()\n",
    "\n",
    "print('Reviews')\n",
    "print(x_data, '\\n')\n",
    "print('Sentiment')\n",
    "print(y_data)"
   ]
  },
  {
   "cell_type": "markdown",
   "metadata": {
    "id": "KcQbFcH0thD1"
   },
   "source": [
    "#**Split Dataset**\n",
    "**In this work, We decided to split the data into 80% of Training and 20% of Testing set using train_test_split method from Scikit-Learn. By using this method, it automatically shuffles the dataset. We need to shuffle the data because in the original dataset, the reviews and sentiments are in order, where they list positive reviews first and then negative reviews. By shuffling the data, it will be distributed equally in the model, so it will be more accurate for predictions.**"
   ]
  },
  {
   "cell_type": "code",
   "execution_count": 6,
   "metadata": {
    "colab": {
     "base_uri": "https://localhost:8080/"
    },
    "executionInfo": {
     "elapsed": 16,
     "status": "ok",
     "timestamp": 1684231847883,
     "user": {
      "displayName": "KARNATI MOHAN",
      "userId": "16604712269571437600"
     },
     "user_tz": -330
    },
    "id": "8cy2sU3jthtz",
    "outputId": "14a08333-0159-4fa5-a751-e51a990df70d"
   },
   "outputs": [
    {
     "name": "stdout",
     "output_type": "stream",
     "text": [
      "Train Set\n",
      "22596    [boring, badly, written, italian, exploitation...\n",
      "5353     [the, other, supposed, horror, movie, made, it...\n",
      "42152    [a, tough, life, gets, tougher, three, childre...\n",
      "15434    [why, earth, colin, firth, pointless, film, ha...\n",
      "7280     [this, far, worst, movie, i, ever, seen, cinem...\n",
      "                               ...                        \n",
      "39945    [this, show, lasted, moments, plots, usually, ...\n",
      "13858    [i, rented, thinking, would, pretty, good, cov...\n",
      "25266    [having, pleasantly, surprised, sandra, bulloc...\n",
      "10659    [the, difficulty, i, musical, version, les, mi...\n",
      "39372    [this, movie, proof, film, noire, enduring, st...\n",
      "Name: review, Length: 40000, dtype: object \n",
      "\n",
      "2006     [this, movie, time, favorite, you, really, see...\n",
      "33575    [this, british, film, version, stage, play, i,...\n",
      "6808     [alexander, nevsky, brilliant, piece, cinemati...\n",
      "32330    [found, old, vhs, version, film, parents, hous...\n",
      "3777     [i, went, see, movie, daughter, i, insisted, g...\n",
      "                               ...                        \n",
      "40255    [what, heck, people, expect, horror, films, da...\n",
      "5864     [especially, time, much, science, fiction, fil...\n",
      "44604    [nicole, eggert, listed, star, despite, michea...\n",
      "42481    [a, thief, night, got, best, end, times, thril...\n",
      "31671    [i, enjoy, national, anthem, i, enjoy, nationa...\n",
      "Name: review, Length: 10000, dtype: object \n",
      "\n",
      "Test Set\n",
      "22596    0\n",
      "5353     0\n",
      "42152    1\n",
      "15434    0\n",
      "7280     0\n",
      "        ..\n",
      "39945    0\n",
      "13858    0\n",
      "25266    0\n",
      "10659    0\n",
      "39372    1\n",
      "Name: sentiment, Length: 40000, dtype: int64 \n",
      "\n",
      "2006     1\n",
      "33575    1\n",
      "6808     1\n",
      "32330    0\n",
      "3777     0\n",
      "        ..\n",
      "40255    1\n",
      "5864     1\n",
      "44604    0\n",
      "42481    1\n",
      "31671    1\n",
      "Name: sentiment, Length: 10000, dtype: int64\n"
     ]
    }
   ],
   "source": [
    "x_train, x_test, y_train, y_test = train_test_split(x_data, y_data, test_size = 0.2)\n",
    "\n",
    "print('Train Set')\n",
    "print(x_train, '\\n')\n",
    "print(x_test, '\\n')\n",
    "print('Test Set')\n",
    "print(y_train, '\\n')\n",
    "print(y_test)"
   ]
  },
  {
   "cell_type": "markdown",
   "metadata": {
    "id": "B712-ID4tnDY"
   },
   "source": [
    "**Function for getting the average review length, by calculating the mean of all the reviews length (using numpy.mean)**"
   ]
  },
  {
   "cell_type": "code",
   "execution_count": 7,
   "metadata": {
    "executionInfo": {
     "elapsed": 11,
     "status": "ok",
     "timestamp": 1684231847883,
     "user": {
      "displayName": "KARNATI MOHAN",
      "userId": "16604712269571437600"
     },
     "user_tz": -330
    },
    "id": "5n86Ria5toOI"
   },
   "outputs": [],
   "source": [
    "def get_max_length():\n",
    "    review_length = []\n",
    "    for review in x_train:\n",
    "        review_length.append(len(review))\n",
    "\n",
    "    return int(np.ceil(np.mean(review_length)))"
   ]
  },
  {
   "cell_type": "markdown",
   "metadata": {
    "id": "zwYgTbAEts_G"
   },
   "source": [
    "#**Tokenize and Pad/Truncate Reviews**\n",
    "**A Neural Network only accepts numeric data, so we need to encode the reviews. I use tensorflow.keras.preprocessing.text.Tokenizer to encode the reviews into integers, where each unique word is automatically indexed (using fit_on_texts method) based on x_train.**\n",
    "\n",
    "**x_train and x_test is converted into integers using texts_to_sequences method.**\n",
    "\n",
    "**Each reviews has a different length, so we need to add padding (by adding 0) or truncating the words to the same length (in this case, it is the mean of all reviews length) using tensorflow.keras.preprocessing.sequence.pad_sequences.**"
   ]
  },
  {
   "cell_type": "code",
   "execution_count": 8,
   "metadata": {
    "colab": {
     "base_uri": "https://localhost:8080/"
    },
    "executionInfo": {
     "elapsed": 5100,
     "status": "ok",
     "timestamp": 1684231852973,
     "user": {
      "displayName": "KARNATI MOHAN",
      "userId": "16604712269571437600"
     },
     "user_tz": -330
    },
    "id": "_cRXNvFHttoe",
    "outputId": "70e45442-4ac0-4fc8-8971-808224a57fe8"
   },
   "outputs": [
    {
     "name": "stdout",
     "output_type": "stream",
     "text": [
      "Total Words: 92636\n",
      "Encoded X Train\n",
      " [[  257   863   310 ...     0     0     0]\n",
      " [    2  1340   350 ...    28   282   409]\n",
      " [   39  1138    40 ...     0     0     0]\n",
      " ...\n",
      " [ 1587  3903   660 ...    62 14457  1006]\n",
      " [    2  6090     1 ...  4973  5675   406]\n",
      " [    8     3  2912 ...     0     0     0]] \n",
      "\n",
      "Encoded X Test\n",
      " [[    8     3    10 ...     0     0     0]\n",
      " [    8   603     4 ...   278 10278  2289]\n",
      " [ 3551 11276   417 ...     0     0     0]\n",
      " ...\n",
      " [ 3908 20405  3718 ...     0     0     0]\n",
      " [   39  2984   218 ...  3947     3   765]\n",
      " [    1   260  1833 ...     0     0     0]] \n",
      "\n",
      "Maximum review length:  130\n"
     ]
    }
   ],
   "source": [
    "# ENCODE REVIEW\n",
    "token = Tokenizer(lower=False)    # no need lower, because already lowered the data in load_data()\n",
    "token.fit_on_texts(x_train)\n",
    "x_train = token.texts_to_sequences(x_train)\n",
    "x_test = token.texts_to_sequences(x_test)\n",
    "\n",
    "max_length = get_max_length()\n",
    "\n",
    "x_train = pad_sequences(x_train, maxlen=max_length, padding='post', truncating='post')\n",
    "x_test = pad_sequences(x_test, maxlen=max_length, padding='post', truncating='post')\n",
    "\n",
    "total_words = len(token.word_index) + 1   # add 1 because of 0 padding\n",
    "print('Total Words:', total_words)\n",
    "\n",
    "print('Encoded X Train\\n', x_train, '\\n')\n",
    "print('Encoded X Test\\n', x_test, '\\n')\n",
    "print('Maximum review length: ', max_length)"
   ]
  },
  {
   "cell_type": "markdown",
   "metadata": {
    "id": "eXf1daJctzRK"
   },
   "source": [
    "#**Build Architecture/Model**\n",
    "**Embedding Layer: in simple terms, it creates word vectors of each word in the word_index and group words that are related or have similar meaning by analyzing other words around them.**\n",
    "\n",
    "**RNN Layer: to make a decision to keep or throw away data by considering the current input, previous output.**\n",
    "\n",
    "**Dense Layer: compute the input with the weight matrix and bias (optional), and using an activation function. I use Sigmoid activation function for this work because the output is only 0 or 1.**\n",
    "\n",
    "**The optimizer is Adam and the loss function is Binary Crossentropy because again the output is only 0 and 1, which is a binary number.**"
   ]
  },
  {
   "cell_type": "code",
   "execution_count": 9,
   "metadata": {
    "colab": {
     "base_uri": "https://localhost:8080/"
    },
    "executionInfo": {
     "elapsed": 4478,
     "status": "ok",
     "timestamp": 1684231857441,
     "user": {
      "displayName": "KARNATI MOHAN",
      "userId": "16604712269571437600"
     },
     "user_tz": -330
    },
    "id": "FoM7MNAKtz50",
    "outputId": "1971c951-a587-4f37-9632-481b5fc6a896"
   },
   "outputs": [
    {
     "name": "stdout",
     "output_type": "stream",
     "text": [
      "Model: \"sequential\"\n",
      "_________________________________________________________________\n",
      " Layer (type)                Output Shape              Param #   \n",
      "=================================================================\n",
      " embedding (Embedding)       (None, 130, 32)           2964352   \n",
      "                                                                 \n",
      " simple_rnn (SimpleRNN)      (None, 64)                6208      \n",
      "                                                                 \n",
      " dense (Dense)               (None, 1)                 65        \n",
      "                                                                 \n",
      "=================================================================\n",
      "Total params: 2,970,625\n",
      "Trainable params: 2,970,625\n",
      "Non-trainable params: 0\n",
      "_________________________________________________________________\n",
      "None\n"
     ]
    }
   ],
   "source": [
    "rnn = Sequential()\n",
    "\n",
    "rnn.add(Embedding(total_words,32,input_length =max_length)) \n",
    "rnn.add(SimpleRNN(64,input_shape = (total_words, max_length), return_sequences=False,activation=\"relu\"))\n",
    "rnn.add(Dense(1, activation = 'sigmoid')) #flatten\n",
    "\n",
    "print(rnn.summary())\n",
    "rnn.compile(loss=\"binary_crossentropy\",optimizer='adam',metrics=[\"accuracy\"])"
   ]
  },
  {
   "cell_type": "markdown",
   "metadata": {
    "id": "aqi0Y67xFeyZ"
   },
   "source": [
    "#**Trainin the Model**"
   ]
  },
  {
   "cell_type": "code",
   "execution_count": 10,
   "metadata": {
    "colab": {
     "base_uri": "https://localhost:8080/"
    },
    "executionInfo": {
     "elapsed": 1043227,
     "status": "ok",
     "timestamp": 1684232900661,
     "user": {
      "displayName": "KARNATI MOHAN",
      "userId": "16604712269571437600"
     },
     "user_tz": -330
    },
    "id": "udaR9DEFu6Fr",
    "outputId": "2d7f4c98-14af-4fd1-d108-3457ab8e859b"
   },
   "outputs": [
    {
     "name": "stdout",
     "output_type": "stream",
     "text": [
      "Epoch 1/20\n",
      "313/313 [==============================] - 96s 286ms/step - loss: 0.6915 - accuracy: 0.5184\n",
      "Epoch 2/20\n",
      "313/313 [==============================] - 68s 218ms/step - loss: 0.6616 - accuracy: 0.5879\n",
      "Epoch 3/20\n",
      "313/313 [==============================] - 63s 202ms/step - loss: 0.6626 - accuracy: 0.5762\n",
      "Epoch 4/20\n",
      "313/313 [==============================] - 56s 180ms/step - loss: 0.5900 - accuracy: 0.6328\n",
      "Epoch 5/20\n",
      "313/313 [==============================] - 51s 162ms/step - loss: 0.4166 - accuracy: 0.8135\n",
      "Epoch 6/20\n",
      "313/313 [==============================] - 51s 161ms/step - loss: 0.3511 - accuracy: 0.8806\n",
      "Epoch 7/20\n",
      "313/313 [==============================] - 47s 149ms/step - loss: 0.2362 - accuracy: 0.9194\n",
      "Epoch 8/20\n",
      "313/313 [==============================] - 46s 148ms/step - loss: 0.1676 - accuracy: 0.9421\n",
      "Epoch 9/20\n",
      "313/313 [==============================] - 45s 144ms/step - loss: 0.3168 - accuracy: 0.8689\n",
      "Epoch 10/20\n",
      "313/313 [==============================] - 46s 148ms/step - loss: 0.5571 - accuracy: 0.6458\n",
      "Epoch 11/20\n",
      "313/313 [==============================] - 44s 141ms/step - loss: 0.4791 - accuracy: 0.7574\n",
      "Epoch 12/20\n",
      "313/313 [==============================] - 45s 144ms/step - loss: 0.2817 - accuracy: 0.9088\n",
      "Epoch 13/20\n",
      "313/313 [==============================] - 43s 139ms/step - loss: 0.4030 - accuracy: 0.8431\n",
      "Epoch 14/20\n",
      "313/313 [==============================] - 45s 142ms/step - loss: 0.2630 - accuracy: 0.9154\n",
      "Epoch 15/20\n",
      "313/313 [==============================] - 43s 138ms/step - loss: 0.2351 - accuracy: 0.9260\n",
      "Epoch 16/20\n",
      "313/313 [==============================] - 43s 138ms/step - loss: 0.2000 - accuracy: 0.9385\n",
      "Epoch 17/20\n",
      "313/313 [==============================] - 45s 143ms/step - loss: 0.1599 - accuracy: 0.9498\n",
      "Epoch 18/20\n",
      "313/313 [==============================] - 44s 140ms/step - loss: 0.1374 - accuracy: 0.9577\n",
      "Epoch 19/20\n",
      "313/313 [==============================] - 44s 141ms/step - loss: 0.1331 - accuracy: 0.9611\n",
      "Epoch 20/20\n",
      "313/313 [==============================] - 43s 136ms/step - loss: 0.2814 - accuracy: 0.8869\n"
     ]
    }
   ],
   "source": [
    "history = rnn.fit(x_train,y_train,epochs = 20,batch_size=128,verbose = 1)"
   ]
  },
  {
   "cell_type": "markdown",
   "metadata": {
    "id": "9h8KUOGpFhz2"
   },
   "source": [
    "#**Saving The Model**"
   ]
  },
  {
   "cell_type": "code",
   "execution_count": 11,
   "metadata": {
    "executionInfo": {
     "elapsed": 5,
     "status": "ok",
     "timestamp": 1684232900661,
     "user": {
      "displayName": "KARNATI MOHAN",
      "userId": "16604712269571437600"
     },
     "user_tz": -330
    },
    "id": "PGQ5CGWd7pLX"
   },
   "outputs": [],
   "source": [
    "model = rnn.save('rnn.h5')\n",
    "loaded_model = load_model('rnn.h5')"
   ]
  },
  {
   "cell_type": "markdown",
   "metadata": {
    "id": "8fKgbBP4Flqd"
   },
   "source": [
    "#**Evaluation**"
   ]
  },
  {
   "cell_type": "code",
   "execution_count": 12,
   "metadata": {
    "colab": {
     "base_uri": "https://localhost:8080/"
    },
    "executionInfo": {
     "elapsed": 1627,
     "status": "ok",
     "timestamp": 1684232902285,
     "user": {
      "displayName": "KARNATI MOHAN",
      "userId": "16604712269571437600"
     },
     "user_tz": -330
    },
    "id": "t6nkcsHsvMyI",
    "outputId": "5e99d090-0638-4a7a-b8b9-6ac25aa93132"
   },
   "outputs": [
    {
     "name": "stdout",
     "output_type": "stream",
     "text": [
      "79/79 [==============================] - 1s 12ms/step\n",
      "[[0.78446704]\n",
      " [0.02569966]\n",
      " [0.78301245]\n",
      " ...\n",
      " [0.2700789 ]\n",
      " [0.72713566]\n",
      " [0.78446704]]\n",
      "2006     1\n",
      "33575    1\n",
      "6808     1\n",
      "32330    0\n",
      "3777     0\n",
      "        ..\n",
      "40255    1\n",
      "5864     1\n",
      "44604    0\n",
      "42481    1\n",
      "31671    1\n",
      "Name: sentiment, Length: 10000, dtype: int64\n",
      "Correct Prediction: 6918\n",
      "Wrong Prediction: 3082\n",
      "Accuracy: 69.17999999999999\n"
     ]
    }
   ],
   "source": [
    "y_pred = rnn.predict(x_test, batch_size = 128)\n",
    "print(y_pred)\n",
    "print(y_test)\n",
    "for i in range(len(y_pred)):\n",
    "  if y_pred[i]>0.5:\n",
    "    y_pred[i] = 1\n",
    "  else:\n",
    "    y_pred[i] = 0\n",
    "\n",
    "true = 0\n",
    "for i, y in enumerate(y_test):\n",
    "    if y == y_pred[i]:\n",
    "        true += 1\n",
    "\n",
    "print('Correct Prediction: {}'.format(true))\n",
    "print('Wrong Prediction: {}'.format(len(y_pred) - true))\n",
    "print('Accuracy: {}'.format(true/len(y_pred)*100))"
   ]
  },
  {
   "cell_type": "markdown",
   "metadata": {
    "id": "xb1KdQ_pNJIW"
   },
   "source": [
    "Message: **Nothing was typical about this. Everything was beautifully done in this movie, the story, the flow, the scenario, everything. I highly recommend it for mystery lovers, for anyone who wants to watch a good movie!**"
   ]
  },
  {
   "cell_type": "markdown",
   "metadata": {
    "id": "0yN_6mY24Jlw"
   },
   "source": [
    "#**Example review**"
   ]
  },
  {
   "cell_type": "code",
   "execution_count": 13,
   "metadata": {
    "colab": {
     "base_uri": "https://localhost:8080/"
    },
    "executionInfo": {
     "elapsed": 3796,
     "status": "ok",
     "timestamp": 1684232906077,
     "user": {
      "displayName": "KARNATI MOHAN",
      "userId": "16604712269571437600"
     },
     "user_tz": -330
    },
    "id": "1_lSReZWvapL",
    "outputId": "421e0566-a8fb-4bf7-fc8e-9332436c8bb9"
   },
   "outputs": [
    {
     "name": "stdout",
     "output_type": "stream",
     "text": [
      "Movie Review: Nothing was typical about this. Everything was beautifully done in this movie, the story, the flow, the scenario, everything. I highly recommend it for mystery lovers, for anyone who wants to watch a good movie!\n"
     ]
    }
   ],
   "source": [
    "review = str(input('Movie Review: '))"
   ]
  },
  {
   "cell_type": "markdown",
   "metadata": {
    "id": "7VTkE6KF4P31"
   },
   "source": [
    "#**Pre-processing of entered review**"
   ]
  },
  {
   "cell_type": "code",
   "execution_count": 14,
   "metadata": {
    "colab": {
     "base_uri": "https://localhost:8080/"
    },
    "executionInfo": {
     "elapsed": 12,
     "status": "ok",
     "timestamp": 1684232906077,
     "user": {
      "displayName": "KARNATI MOHAN",
      "userId": "16604712269571437600"
     },
     "user_tz": -330
    },
    "id": "S-isbUeevaq5",
    "outputId": "3bf01824-0d16-41cd-b37c-03b17417e6bd"
   },
   "outputs": [
    {
     "name": "stdout",
     "output_type": "stream",
     "text": [
      "Cleaned:  Nothing was typical about this Everything was beautifully done in this movie the story the flow the scenario everything I highly recommend it for mystery lovers for anyone who wants to watch a good movie\n",
      "Filtered:  ['nothing typical everything beautifully done movie story flow scenario everything i highly recommend mystery lovers anyone wants watch good movie']\n"
     ]
    }
   ],
   "source": [
    "# Pre-process input\n",
    "regex = re.compile(r'[^a-zA-Z\\s]')\n",
    "review = regex.sub('', review)\n",
    "print('Cleaned: ', review)\n",
    "\n",
    "words = review.split(' ')\n",
    "filtered = [w for w in words if w not in english_stops]\n",
    "filtered = ' '.join(filtered)\n",
    "filtered = [filtered.lower()]\n",
    "\n",
    "print('Filtered: ', filtered)"
   ]
  },
  {
   "cell_type": "code",
   "execution_count": 15,
   "metadata": {
    "colab": {
     "base_uri": "https://localhost:8080/"
    },
    "executionInfo": {
     "elapsed": 10,
     "status": "ok",
     "timestamp": 1684232906077,
     "user": {
      "displayName": "KARNATI MOHAN",
      "userId": "16604712269571437600"
     },
     "user_tz": -330
    },
    "id": "Te3OyQohvaua",
    "outputId": "6375cb0c-9cf0-4ff0-9d39-b497f0708bce"
   },
   "outputs": [
    {
     "name": "stdout",
     "output_type": "stream",
     "text": [
      "[[  76  705  174 1210  126    3   13 2692 2596  174    1  442  280  701\n",
      "  1771  155  400   33    9    3    0    0    0    0    0    0    0    0\n",
      "     0    0    0    0    0    0    0    0    0    0    0    0    0    0\n",
      "     0    0    0    0    0    0    0    0    0    0    0    0    0    0\n",
      "     0    0    0    0    0    0    0    0    0    0    0    0    0    0\n",
      "     0    0    0    0    0    0    0    0    0    0    0    0    0    0\n",
      "     0    0    0    0    0    0    0    0    0    0    0    0    0    0\n",
      "     0    0    0    0    0    0    0    0    0    0    0    0    0    0\n",
      "     0    0    0    0    0    0    0    0    0    0    0    0    0    0\n",
      "     0    0    0    0]]\n"
     ]
    }
   ],
   "source": [
    "tokenize_words = token.texts_to_sequences(filtered)\n",
    "tokenize_words = pad_sequences(tokenize_words, maxlen=max_length, padding='post', truncating='post')\n",
    "print(tokenize_words)"
   ]
  },
  {
   "cell_type": "markdown",
   "metadata": {
    "id": "9X_Haz8g4U7Q"
   },
   "source": [
    "#**Prediction**"
   ]
  },
  {
   "cell_type": "code",
   "execution_count": 16,
   "metadata": {
    "colab": {
     "base_uri": "https://localhost:8080/"
    },
    "executionInfo": {
     "elapsed": 8,
     "status": "ok",
     "timestamp": 1684232906077,
     "user": {
      "displayName": "KARNATI MOHAN",
      "userId": "16604712269571437600"
     },
     "user_tz": -330
    },
    "id": "vVWAZXuZviIp",
    "outputId": "a721b9ae-3347-468a-ccd1-d9c1c6bf6619"
   },
   "outputs": [
    {
     "name": "stdout",
     "output_type": "stream",
     "text": [
      "1/1 [==============================] - 0s 40ms/step\n",
      "[[0.78446704]]\n"
     ]
    }
   ],
   "source": [
    "result = rnn.predict(tokenize_words)\n",
    "print(result)"
   ]
  },
  {
   "cell_type": "code",
   "execution_count": 17,
   "metadata": {
    "colab": {
     "base_uri": "https://localhost:8080/"
    },
    "executionInfo": {
     "elapsed": 7,
     "status": "ok",
     "timestamp": 1684232906078,
     "user": {
      "displayName": "KARNATI MOHAN",
      "userId": "16604712269571437600"
     },
     "user_tz": -330
    },
    "id": "gVgQvGXBviME",
    "outputId": "c1e1e527-cd1e-4a41-9e6b-e0fabb1e9b10"
   },
   "outputs": [
    {
     "name": "stdout",
     "output_type": "stream",
     "text": [
      "positive\n"
     ]
    }
   ],
   "source": [
    "if result >= 0.7:\n",
    "    print('positive')\n",
    "else:\n",
    "    print('negative')"
   ]
  },
  {
   "cell_type": "code",
   "execution_count": 17,
   "metadata": {
    "executionInfo": {
     "elapsed": 5,
     "status": "ok",
     "timestamp": 1684232906078,
     "user": {
      "displayName": "KARNATI MOHAN",
      "userId": "16604712269571437600"
     },
     "user_tz": -330
    },
    "id": "gcagsy1Q8LUz"
   },
   "outputs": [],
   "source": []
  }
 ],
 "metadata": {
  "accelerator": "GPU",
  "colab": {
   "authorship_tag": "ABX9TyOrFOnguZH2Zvic2XDRHG8e",
   "gpuType": "T4",
   "mount_file_id": "1c-ocCcBLH8FO-Fte_cEqj9HHCKzwgWJp",
   "provenance": []
  },
  "gpuClass": "standard",
  "kernelspec": {
   "display_name": "Python 3 (ipykernel)",
   "language": "python",
   "name": "python3"
  },
  "language_info": {
   "codemirror_mode": {
    "name": "ipython",
    "version": 3
   },
   "file_extension": ".py",
   "mimetype": "text/x-python",
   "name": "python",
   "nbconvert_exporter": "python",
   "pygments_lexer": "ipython3",
   "version": "3.9.7"
  }
 },
 "nbformat": 4,
 "nbformat_minor": 1
}

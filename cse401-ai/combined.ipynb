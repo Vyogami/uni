{
 "cells": [
  {
   "cell_type": "markdown",
   "metadata": {
    "id": "Ev0cZB_d0_a8"
   },
   "source": [
    "## EXPERIMENT 1\n",
    "### 1.1 SINGLE PLAYER GAME"
   ]
  },
  {
   "cell_type": "code",
   "execution_count": null,
   "metadata": {},
   "outputs": [],
   "source": []
  },
  {
   "cell_type": "code",
   "execution_count": null,
   "metadata": {
    "id": "3BAyia350-EC"
   },
   "outputs": [],
   "source": [
    "import random as rand\n",
    "def game():\n",
    "  hidden_num = rand.randrange(0,100,1)\n",
    "  print(\"random number generated\")\n",
    "  num_guess = 7\n",
    "  while num_guess != 0:\n",
    "    guess = int(input(\"Enter a number between 1 and 100: \"))\n",
    "    if guess == hidden_num:\n",
    "      print(\"guessed right\")\n",
    "      break\n",
    "    elif guess > hidden_num:\n",
    "      print(\"wrong guess lower\")\n",
    "      num_guess -= 1\n",
    "    else:\n",
    "      print(\"wrong guess higher\")\n",
    "      num_guess -=1\n",
    "  print(\"game over, the hidden number is \", hidden_num)\n",
    "\n"
   ]
  },
  {
   "cell_type": "code",
   "execution_count": null,
   "metadata": {
    "colab": {
     "base_uri": "https://localhost:8080/"
    },
    "executionInfo": {
     "elapsed": 49315,
     "status": "ok",
     "timestamp": 1707141328986,
     "user": {
      "displayName": "Eminent Directors",
      "userId": "06210666551836223460"
     },
     "user_tz": -330
    },
    "id": "PCecXrAf2afe",
    "outputId": "1c5ec08d-acf2-417a-d614-a493e82fd322"
   },
   "outputs": [
    {
     "name": "stdout",
     "output_type": "stream",
     "text": [
      "random number generated\n",
      "Enter a number between 1 and 100: 50\n",
      "wrong guess higher\n",
      "Enter a number between 1 and 100: 75\n",
      "wrong guess lower\n",
      "Enter a number between 1 and 100: 65\n",
      "wrong guess higher\n",
      "Enter a number between 1 and 100: 70\n",
      "wrong guess lower\n",
      "Enter a number between 1 and 100: 67\n",
      "wrong guess lower\n",
      "Enter a number between 1 and 100: 66\n",
      "guessed right\n",
      "game over, the hidden number is  66\n"
     ]
    }
   ],
   "source": [
    "game()"
   ]
  },
  {
   "cell_type": "markdown",
   "metadata": {
    "id": "fCtl8RFWkLyP"
   },
   "source": [
    "# Experiment 2"
   ]
  },
  {
   "cell_type": "markdown",
   "metadata": {
    "id": "1bhtM40mr-uo"
   },
   "source": [
    "\n",
    "### 2.1 WATER JUG PROBLEM"
   ]
  },
  {
   "cell_type": "markdown",
   "metadata": {
    "id": "PSNeJOGVsDLg"
   },
   "source": [
    "## Explaining Rules:\n",
    "---\n",
    "* `jug2_capacity - y`  =>  means how much empty space does jug2 have\n",
    "*  `min(x, jug2_capacity - y)` => if x is 0 then we dont do any transfer, if\n",
    "  * if so we try to find what the amount of water we can transfer in jug2 without overflowing it and thus we substract that amount from jug1\n",
    "*` min(y, jug1_capacity - x)` => same for transfering water from jug 2 to 1\n",
    "\n",
    "\n",
    "\n",
    "\n",
    "\n",
    "\n",
    "\n",
    "\n",
    "\n",
    "\n",
    "\n",
    "\n",
    "\n",
    "\n",
    "\n",
    "\n",
    "\n",
    "\n"
   ]
  },
  {
   "cell_type": "code",
   "execution_count": null,
   "metadata": {
    "id": "bBp7dDeeYrKT"
   },
   "outputs": [],
   "source": [
    "from collections import deque\n",
    "\n",
    "def calc_water_jug(initial_state, final_state, jug1_capacity, jug2_capacity):\n",
    "    visited = set()\n",
    "    visited.add(initial_state)\n",
    "    queue = deque([(initial_state, [])])  # Queue to hold the states of the jugs along with the path\n",
    "    result_path = []  # Stores the path leading to the final state\n",
    "\n",
    "    while queue:\n",
    "        current_state, path = queue.popleft()\n",
    "        if current_state == final_state:\n",
    "            result_path = path\n",
    "            break\n",
    "        x, y = current_state\n",
    "        combinations = [\n",
    "            (x, 0),  # Empty jug B\n",
    "            (0, y),  # Empty jug A\n",
    "            (jug1_capacity, y),  # Fill jug A\n",
    "            (x, jug2_capacity),  # Fill jug B\n",
    "            (x - min(x, jug2_capacity - y), y + min(x, jug2_capacity - y)),  # Pour from A to B\n",
    "            (x + min(y, jug1_capacity - x), y - min(y, jug1_capacity - x))  # Pour from B to A\n",
    "        ]\n",
    "        rules = [\n",
    "            \"Empty jug B\",\n",
    "            \"Empty jug A\",\n",
    "            \"Fill jug A\",\n",
    "            \"Fill jug B\",\n",
    "            \"Pour from A to B\",\n",
    "            \"Pour from B to A\"\n",
    "        ]\n",
    "        for i, next_state in enumerate(combinations):\n",
    "            if next_state not in visited:\n",
    "                visited.add(next_state)\n",
    "                next_path = path + [(i, next_state)]  # Record the current path along with the rule\n",
    "                queue.append((next_state, next_path))  # Add the next state to the queue along with the updated path\n",
    "\n",
    "    for step, (rule, state) in enumerate(result_path):\n",
    "        print(f\"Step {step + 1}: {rules[rule]} -> {state}\")\n",
    "    print(f\"Total steps: {len(result_path)}\")"
   ]
  },
  {
   "cell_type": "code",
   "execution_count": null,
   "metadata": {
    "colab": {
     "base_uri": "https://localhost:8080/"
    },
    "executionInfo": {
     "elapsed": 7,
     "status": "ok",
     "timestamp": 1705984375346,
     "user": {
      "displayName": "Eminent Directors",
      "userId": "06210666551836223460"
     },
     "user_tz": -330
    },
    "id": "Xed-LwataHFP",
    "outputId": "e5817a13-ca27-4ef1-b64a-4f3d9ead797f"
   },
   "outputs": [
    {
     "name": "stdout",
     "output_type": "stream",
     "text": [
      "Step 1: Fill jug B -> (0, 3)\n",
      "Step 2: Pour from B to A -> (3, 0)\n",
      "Step 3: Fill jug B -> (3, 3)\n",
      "Step 4: Pour from B to A -> (4, 2)\n",
      "Step 5: Empty jug B -> (0, 2)\n",
      "Step 6: Pour from B to A -> (2, 0)\n",
      "Total steps: 6\n"
     ]
    }
   ],
   "source": [
    "capacityA = 4\n",
    "capacityB = 3\n",
    "start_state = (0, 0)  # Initial state\n",
    "final_state = (2, 0)  # Target state\n",
    "calc_water_jug(start_state, final_state, capacityA, capacityB)"
   ]
  },
  {
   "cell_type": "markdown",
   "metadata": {
    "id": "ktFr71gmn8qP"
   },
   "source": [
    "\n",
    "### 2.2 Maze problem using DFS (STACK)"
   ]
  },
  {
   "cell_type": "code",
   "execution_count": null,
   "metadata": {
    "id": "k6FCeEeYwTY6"
   },
   "outputs": [],
   "source": [
    "from collections import deque\n",
    "def solve_maze(maze, start, destination):\n",
    "    paths = []\n",
    "    stack = deque([(start, [start])])\n",
    "    visited = set()\n",
    "\n",
    "    while stack:\n",
    "        (x, y), path = stack.pop()\n",
    "        if (x, y) == destination:\n",
    "          paths.append(path)\n",
    "          continue\n",
    "        if (x, y) in visited:\n",
    "            continue\n",
    "        visited.add((x, y))\n",
    "\n",
    "        for dx, dy in [(1, 0), (0, 1), (-1, 0), (0, -1)]: #rules (D,R,U,L)\n",
    "            new_x, new_y = x + dx, y + dy\n",
    "            if 0 <= new_x < 5 and 0 <= new_y < 5 and maze[new_x][new_y] == 0: # checks validity\n",
    "                stack.append(((new_x, new_y), path + [(new_x, new_y)]))\n",
    "\n",
    "    if not paths:\n",
    "      return \"no paths found\"\n",
    "    else:\n",
    "      return paths"
   ]
  },
  {
   "cell_type": "code",
   "execution_count": null,
   "metadata": {
    "colab": {
     "base_uri": "https://localhost:8080/"
    },
    "executionInfo": {
     "elapsed": 14941,
     "status": "ok",
     "timestamp": 1706592001338,
     "user": {
      "displayName": "Eminent Directors",
      "userId": "06210666551836223460"
     },
     "user_tz": -330
    },
    "id": "6w8yf2DkoG1X",
    "outputId": "662409e2-ffde-400c-fbed-502047a2a8e2"
   },
   "outputs": [
    {
     "data": {
      "text/plain": [
       "[[(0, 0),\n",
       "  (1, 0),\n",
       "  (1, 1),\n",
       "  (2, 1),\n",
       "  (2, 2),\n",
       "  (2, 3),\n",
       "  (1, 3),\n",
       "  (1, 4),\n",
       "  (2, 4),\n",
       "  (3, 4),\n",
       "  (4, 4)],\n",
       " [(0, 0), (1, 0), (1, 1), (2, 1), (2, 2), (3, 2), (4, 2), (4, 3), (4, 4)]]"
      ]
     },
     "execution_count": 12,
     "metadata": {},
     "output_type": "execute_result"
    }
   ],
   "source": [
    "\n",
    "maze = [[ 0, -1, -1, -1, -1],\n",
    "        [ 0,  0, -1, -1, -1],\n",
    "        [-1,  0,  0,  0,  0],\n",
    "        [-1, -1,  0, -1,  0],\n",
    "        [-1, -1,  0,  0,  0]]\n",
    "start = (0,0)\n",
    "destination = (4,4)\n",
    "solve_maze(maze,start,destination)"
   ]
  },
  {
   "cell_type": "markdown",
   "metadata": {
    "id": "uRraz9JbrkAi"
   },
   "source": [
    "# EXPERIMENT 3\n",
    "### 3.1 EIGHT PUZZLE PROBLEM (USING BEST FIRST SEARCH)"
   ]
  },
  {
   "cell_type": "code",
   "execution_count": null,
   "metadata": {
    "id": "TTNOW7fCbRYE"
   },
   "outputs": [],
   "source": [
    "import heapq\n",
    "from copy import deepcopy\n",
    "\n",
    "def manhattan_distance(initial_state, goal_state):\n",
    "    distance = 0\n",
    "    for row in range(3):\n",
    "        for col in range(3):\n",
    "            if initial_state[row][col] != 0:\n",
    "                target_row, target_col = divmod(initial_state[row][col] - 1, 3)\n",
    "                distance += abs(target_row - row) + abs(target_col - col)\n",
    "    return distance\n",
    "\n",
    "def get_possible_moves(state):\n",
    "    moves = []\n",
    "    for row in range(3):\n",
    "        for col in range(3):\n",
    "            if state[row][col] == 0:\n",
    "                zero_row, zero_col = row, col\n",
    "                break\n",
    "\n",
    "    directions = [(-1, 0), (1, 0), (0, -1), (0, 1)]  # Up, Down, Left, Right\n",
    "    for dr, dc in directions:\n",
    "        new_row, new_col = zero_row + dr, zero_col + dc\n",
    "        if 0 <= new_row < 3 and 0 <= new_col < 3:\n",
    "            new_state = deepcopy(state)\n",
    "            new_state[zero_row][zero_col], new_state[new_row][new_col] = new_state[new_row][new_col], new_state[zero_row][zero_col]\n",
    "            move = [\"Up\", \"Down\", \"Left\", \"Right\"][directions.index((dr, dc))]\n",
    "            moves.append((tuple(map(tuple, new_state)), move))\n",
    "\n",
    "    return moves\n",
    "\n",
    "def solve_puzzle_best_first_search(initial_state, goal_state):\n",
    "    open_list = [(manhattan_distance(initial_state, goal_state), initial_state, [\"Start\"])]\n",
    "    heapq.heapify(open_list)\n",
    "    visited = set()\n",
    "\n",
    "    while open_list:\n",
    "        _, current_state, path = heapq.heappop(open_list)\n",
    "        current_state = tuple(map(tuple, current_state))\n",
    "\n",
    "        if current_state == goal_state:\n",
    "            return list(map(list, current_state)), path\n",
    "\n",
    "        visited.add(current_state)\n",
    "\n",
    "        for next_state, move in get_possible_moves(list(map(list, current_state))):\n",
    "            next_path = deepcopy(path)\n",
    "            next_path.append(move)\n",
    "            next_state = tuple(map(tuple, next_state))\n",
    "\n",
    "            if next_state not in visited:\n",
    "                heapq.heappush(open_list, (manhattan_distance(next_state, goal_state), next_state, next_path))\n",
    "\n",
    "    return None, None\n"
   ]
  },
  {
   "cell_type": "code",
   "execution_count": null,
   "metadata": {
    "colab": {
     "base_uri": "https://localhost:8080/"
    },
    "executionInfo": {
     "elapsed": 434,
     "status": "ok",
     "timestamp": 1709609641143,
     "user": {
      "displayName": "Eminent Directors",
      "userId": "06210666551836223460"
     },
     "user_tz": -330
    },
    "id": "UgcrvbcMqRgj",
    "outputId": "9f0e214c-59dd-4cf0-fec8-639991c1de0a"
   },
   "outputs": [
    {
     "name": "stdout",
     "output_type": "stream",
     "text": [
      "Final state:\n",
      "1 2 3\n",
      "4 5 6\n",
      "7 8 0\n",
      "Moves: Left -> Left -> Down -> Right -> Right -> Up -> Left -> Down -> Left -> Up -> Right -> Right -> Down\n"
     ]
    }
   ],
   "source": [
    "initial_state = ((1, 2, 3),\n",
    "                 (5, 6, 0),\n",
    "                 (7, 8, 4))\n",
    "\n",
    "goal_state = ((1, 2, 3),\n",
    "              (4, 5, 6),\n",
    "              (7, 8, 0))\n",
    "\n",
    "final_state, path = solve_puzzle_best_first_search(initial_state, goal_state)\n",
    "\n",
    "if final_state:\n",
    "  print(\"Final state:\")\n",
    "  for row in final_state:\n",
    "    print(\" \".join(map(str, row)))\n",
    "  print(\"Moves:\", \" -> \".join(path[1:]))\n",
    "else:\n",
    "  print(\"No solution found.\")"
   ]
  },
  {
   "cell_type": "code",
   "execution_count": null,
   "metadata": {},
   "outputs": [],
   "source": []
  },
  {
   "cell_type": "markdown",
   "metadata": {
    "id": "RbQc6PE34N5e"
   },
   "source": [
    "# Experiment 4 (Constraint Satisfaction)\n",
    "## 4.1 Crypt Arithmetic"
   ]
  },
  {
   "cell_type": "code",
   "execution_count": null,
   "metadata": {
    "colab": {
     "base_uri": "https://localhost:8080/"
    },
    "executionInfo": {
     "elapsed": 4583,
     "status": "ok",
     "timestamp": 1710145210608,
     "user": {
      "displayName": "Eminent Directors",
      "userId": "06210666551836223460"
     },
     "user_tz": -330
    },
    "id": "jRExQGuc4NLQ",
    "outputId": "c30a88fb-b46e-40a9-8d0c-b9059c97395c"
   },
   "outputs": [
    {
     "name": "stdout",
     "output_type": "stream",
     "text": [
      "Solutions:\n",
      "{'S': 2, 'R': 6, 'M': 0, 'O': 3, 'E': 8, 'N': 1, 'Y': 5, 'D': 7}\n"
     ]
    }
   ],
   "source": [
    "from itertools import permutations\n",
    "\n",
    "def solve_cryptarithmetic(puzzle):\n",
    "\n",
    "    words = puzzle.replace('+', ' ').replace('=', ' ').split()\n",
    "    unique_letters = set(''.join(words))\n",
    "\n",
    "    # Try all possible digit assignments\n",
    "    for perm in permutations(range(10), len(unique_letters)):\n",
    "        sol = dict(zip(unique_letters, perm))\n",
    "\n",
    "        # Check if the assignment satisfies the puzzle\n",
    "        if valid(sol, words):\n",
    "            return [sol]\n",
    "\n",
    "    return []\n",
    "\n",
    "def valid(sol, words):\n",
    "    # Ignore leading zeros\n",
    "    values = [int(''.join(str(sol[c]) for c in word)) for word in words]\n",
    "    return not any(val == 0 for val in values[:len(values) - 1]) and sum(values[:len(values) - 1]) == values[-1] # boolean\n",
    "# Example usage\n",
    "puzzle = \"SEND + MORE == MONEY\"\n",
    "solutions = solve_cryptarithmetic(puzzle)\n",
    "\n",
    "if solutions:\n",
    "    print(\"Solutions:\")\n",
    "    for solution in solutions:\n",
    "        print(solution)\n",
    "else:\n",
    "    print(\"No solution found.\")"
   ]
  },
  {
   "cell_type": "markdown",
   "metadata": {
    "id": "0IMeh_9OmcCg"
   },
   "source": [
    "## 4.2 solving graph colouring problems"
   ]
  },
  {
   "cell_type": "code",
   "execution_count": null,
   "metadata": {
    "colab": {
     "base_uri": "https://localhost:8080/"
    },
    "executionInfo": {
     "elapsed": 25590,
     "status": "ok",
     "timestamp": 1710149020373,
     "user": {
      "displayName": "Eminent Directors",
      "userId": "06210666551836223460"
     },
     "user_tz": -330
    },
    "id": "LmLEAk8NlaD7",
    "outputId": "9d9f7bf1-9c94-4857-fadc-7cdc17bc8144"
   },
   "outputs": [
    {
     "name": "stdout",
     "output_type": "stream",
     "text": [
      "enter the number of nodes in the graph: 5\n",
      "enter the number of edges in the graph: 5\n",
      "Enter the src node of edge 1: 1\n",
      "Enter the dest node of edge 1: 2\n",
      "Enter the src node of edge 2: 2\n",
      "Enter the dest node of edge 2: 3\n",
      "Enter the src node of edge 3: 3\n",
      "Enter the dest node of edge 3: 4\n",
      "Enter the src node of edge 4: 4\n",
      "Enter the dest node of edge 4: 5\n",
      "Enter the src node of edge 5: 5\n",
      "Enter the dest node of edge 5: 1\n",
      "\n",
      "nodes: [1, 2, 3, 4, 5]\n",
      "\\edges: [(1, 2), (1, 5), (2, 3), (3, 4), (4, 5)]\n",
      "\n",
      "Color assignments:\n",
      "Node 1: Red\n",
      "Node 2: Blue\n",
      "Node 3: Red\n",
      "Node 4: Blue\n",
      "Node 5: Green\n",
      "\n",
      "Number of colors used: 3\n"
     ]
    }
   ],
   "source": [
    "import networkx as nx\n",
    "def graph_init(num_nodes, num_edges):\n",
    "  graph = nx.Graph()\n",
    "  nodes = range(1,num_nodes + 1)\n",
    "  graph.add_nodes_from(nodes)\n",
    "  for i in range(num_edges) :\n",
    "    src = int(input(\"Enter the src node of edge \" + str(i+1)+\": \"))\n",
    "    dest = int(input(\"Enter the dest node of edge \" + str(i+1)+\": \"))\n",
    "    graph.add_edge(src,dest)\n",
    "  print(\"\\nnodes:\",graph.nodes())\n",
    "  print(\"\\edges:\",graph.edges())\n",
    "\n",
    "  return graph\n",
    "\n",
    "def solve_colour(graph):\n",
    "  color_names = [\"Red\", \"Blue\", \"Green\", \"Yellow\", \"Orange\", \"Purple\", \"Pink\", \"Brown\", \"Gray\", \"Cyan\"]\n",
    "  color_map ={}\n",
    "  for node in graph.nodes():\n",
    "      neighbor_colors = {color_map.get(neighbor) for neighbor in graph.neighbors(node)}\n",
    "      available_colors = {color for color in range(len(color_names))} - neighbor_colors\n",
    "      color_map[node] = min(available_colors)\n",
    "\n",
    "  print(\"\\nColor assignments:\")\n",
    "  for node, color in color_map.items():\n",
    "      print(f\"Node {node}: {color_names[color]}\")\n",
    "\n",
    "  num_colors = max(color_map.values()) + 1\n",
    "  print(f\"\\nNumber of colors used: {num_colors}\")\n",
    "\n",
    "\n",
    "\n",
    "# main calling all the functions\n",
    "num_nodes = int(input(\"enter the number of nodes in the graph: \"))\n",
    "num_edges = int (input(\"enter the number of edges in the graph: \"))\n",
    "graph = graph_init(num_nodes,num_edges)\n",
    "solve_colour(graph)"
   ]
  },
  {
   "cell_type": "markdown",
   "metadata": {
    "id": "jo_19Fm01Bx2"
   },
   "source": [
    "# Experiment 5 Game theroy\n",
    "## 5.1 impliment min max algorithm\n",
    "There are several counters in a shared pile.\n",
    "Two players take alternating turns.\n",
    "On their turn, a player removes one, two, or three counters from the pile.\n",
    "The player that takes the last counter loses the game."
   ]
  },
  {
   "cell_type": "code",
   "execution_count": null,
   "metadata": {
    "id": "rsjbOSPX1AEo"
   },
   "outputs": [],
   "source": []
  },
  {
   "cell_type": "markdown",
   "metadata": {
    "id": "VjJjkB5Im0bd"
   },
   "source": [
    "# Experiment 6\n",
    "## 6.1 fractional knapsack using greedy"
   ]
  },
  {
   "cell_type": "code",
   "execution_count": 1,
   "metadata": {
    "colab": {
     "base_uri": "https://localhost:8080/"
    },
    "executionInfo": {
     "elapsed": 7,
     "status": "ok",
     "timestamp": 1710217204656,
     "user": {
      "displayName": "Eminent Directors",
      "userId": "06210666551836223460"
     },
     "user_tz": -330
    },
    "id": "9fRfPCPom-87",
    "outputId": "a5dec13d-14b0-4503-cf0b-c2baecb81803"
   },
   "outputs": [
    {
     "name": "stdout",
     "output_type": "stream",
     "text": [
      "Fractional weights of selected items: [1, 1, 0.6666666666666666, 0]\n",
      "Total value: 7.0\n"
     ]
    }
   ],
   "source": [
    "def knapsack_greedy(weights, values, capacity):\n",
    "\n",
    "  # Create a list of items with their weight-to-value ratio.\n",
    "  items = sorted(zip(weights, values), key=lambda x: x[1] / x[0], reverse=True)\n",
    "\n",
    "  fractional_weights = [0] * len(weights)\n",
    "  total_value = 0\n",
    "  current_weight = 0\n",
    "\n",
    "  for weight, value in items:\n",
    "    if current_weight + weight <= capacity:\n",
    "      fractional_weights[items.index((weight, value))] = 1\n",
    "      current_weight += weight\n",
    "      total_value += value\n",
    "    else:\n",
    "      fractional_weights[items.index((weight, value))] = (capacity - current_weight) / weight\n",
    "      current_weight += (capacity - current_weight)\n",
    "      total_value += value * (capacity - current_weight) / weight\n",
    "      break\n",
    "\n",
    "  return fractional_weights, total_value\n",
    "\n",
    "# Example usage\n",
    "weights = [2, 3, 1, 4]\n",
    "values = [4, 6, 3, 5]\n",
    "capacity = 5\n",
    "\n",
    "fractional_weights, total_value = knapsack_greedy(weights, values, capacity)\n",
    "\n",
    "print(\"Fractional weights of selected items:\", fractional_weights)\n",
    "print(\"Total value:\", total_value)\n"
   ]
  },
  {
   "cell_type": "markdown",
   "metadata": {
    "id": "t2cLhY2pm_rV"
   },
   "source": [
    "## 6.2 knapsack using DP"
   ]
  },
  {
   "cell_type": "code",
   "execution_count": 2,
   "metadata": {
    "id": "gO8Fz8cBnPId"
   },
   "outputs": [
    {
     "name": "stdout",
     "output_type": "stream",
     "text": [
      "Maximum value: 10\n",
      "Selected weights: [3, 2]\n"
     ]
    }
   ],
   "source": [
    "def knapsack_dp(weights, values, capacity):\n",
    "  n = len(weights)\n",
    "  dp = [[0 for _ in range(capacity + 1)] for _ in range(n + 1)]\n",
    "\n",
    "  # Build the DP table\n",
    "  for i in range(1, n + 1):\n",
    "    for w in range(capacity + 1):\n",
    "      if weights[i - 1] > w:\n",
    "        dp[i][w] = dp[i - 1][w]  # Don't include the item if it exceeds weight limit\n",
    "      else:\n",
    "        dp[i][w] = max(dp[i - 1][w], values[i - 1] + dp[i - 1][w - weights[i - 1]])\n",
    "        # Include the item only if it yields a higher value\n",
    "\n",
    "  # Backtrack to find the selected items\n",
    "  selected_weights = []\n",
    "  w = capacity\n",
    "  for i in range(n, 0, -1):\n",
    "    if dp[i][w] != dp[i - 1][w]:\n",
    "      selected_weights.append(weights[i - 1])\n",
    "      w -= weights[i - 1]\n",
    "\n",
    "  return dp[n][capacity], selected_weights\n",
    "\n",
    "# Example usage\n",
    "weights = [2, 3, 1, 4]\n",
    "values = [4, 6, 3, 5]\n",
    "capacity = 5\n",
    "\n",
    "max_value, selected_weights = knapsack_dp(weights, values, capacity)\n",
    "\n",
    "print(\"Maximum value:\", max_value)\n",
    "print(\"Selected weights:\", selected_weights)\n"
   ]
  },
  {
   "cell_type": "markdown",
   "metadata": {
    "id": "8BFli2uUm_ji"
   },
   "source": [
    "# Experiment 7"
   ]
  },
  {
   "cell_type": "code",
   "execution_count": 2,
   "metadata": {
    "colab": {
     "base_uri": "https://localhost:8080/"
    },
    "executionInfo": {
     "elapsed": 487,
     "status": "ok",
     "timestamp": 1710219949923,
     "user": {
      "displayName": "Eminent Directors",
      "userId": "06210666551836223460"
     },
     "user_tz": -330
    },
    "id": "PakoU9aYmy4s",
    "outputId": "2e4c2ba7-555e-47bd-807b-4e624c5e9ed6"
   },
   "outputs": [
    {
     "name": "stdout",
     "output_type": "stream",
     "text": [
      "The optimal move for Player X has an evaluation of: 1\n",
      "The optimal move for Player O has an evaluation of: -1\n"
     ]
    }
   ],
   "source": [
    "import math\n",
    "\n",
    "# Representation of the board\n",
    "EMPTY = 0\n",
    "PLAYER_X = 1\n",
    "PLAYER_O = 2\n",
    "\n",
    "def minimax(board, depth, is_max_turn, alpha=-math.inf, beta=math.inf):\n",
    "    # Check if the game has ended\n",
    "    result = check_win(board)\n",
    "    if result is not None:\n",
    "        if result == PLAYER_X:\n",
    "            return 1\n",
    "        elif result == PLAYER_O:\n",
    "            return -1\n",
    "        else:\n",
    "            return 0\n",
    "\n",
    "    # If we've reached the maximum depth, evaluate the board\n",
    "    if depth == 0:\n",
    "        return evaluate_board(board)\n",
    "\n",
    "    # Explore all possible moves\n",
    "    if is_max_turn:\n",
    "        max_eval = -math.inf\n",
    "        for move in get_possible_moves(board, PLAYER_X):\n",
    "            new_board = make_move(board, move, PLAYER_X)\n",
    "            eval_score = minimax(new_board, depth - 1, False, alpha, beta)\n",
    "            max_eval = max(max_eval, eval_score)\n",
    "            alpha = max(alpha, eval_score)\n",
    "            if beta <= alpha:\n",
    "                break  # Pruning\n",
    "        return max_eval\n",
    "    else:\n",
    "        min_eval = math.inf\n",
    "        for move in get_possible_moves(board, PLAYER_O):\n",
    "            new_board = make_move(board, move, PLAYER_O)\n",
    "            eval_score = minimax(new_board, depth - 1, True, alpha, beta)\n",
    "            min_eval = min(min_eval, eval_score)\n",
    "            beta = min(beta, eval_score)\n",
    "            if beta <= alpha:\n",
    "                break  # Pruning\n",
    "        return min_eval\n",
    "\n",
    "def evaluate_board(board):\n",
    "    # Simple evaluation function that counts the number of pieces for each player\n",
    "    x_count = sum(row.count(PLAYER_X) for row in board)\n",
    "    o_count = sum(row.count(PLAYER_O) for row in board)\n",
    "    return x_count - o_count\n",
    "\n",
    "def check_win(board):\n",
    "    # Check rows\n",
    "    for row in board:\n",
    "        if row.count(PLAYER_X) == 3:\n",
    "            return PLAYER_X\n",
    "        elif row.count(PLAYER_O) == 3:\n",
    "            return PLAYER_O\n",
    "\n",
    "    # Check columns\n",
    "    for col in range(3):\n",
    "        if board[0][col] == board[1][col] == board[2][col] != EMPTY:\n",
    "            return board[0][col]\n",
    "\n",
    "    # Check diagonals\n",
    "    if board[0][0] == board[1][1] == board[2][2] != EMPTY:\n",
    "        return board[0][0]\n",
    "    if board[0][2] == board[1][1] == board[2][0] != EMPTY:\n",
    "        return board[0][2]\n",
    "\n",
    "    # No winner yet\n",
    "    return None\n",
    "\n",
    "def get_possible_moves(board, player):\n",
    "    moves = []\n",
    "    for i in range(3):\n",
    "        for j in range(3):\n",
    "            if board[i][j] == EMPTY:\n",
    "                moves.append((i, j))\n",
    "    return moves\n",
    "\n",
    "def make_move(board, move, player):\n",
    "    new_board = [row[:] for row in board]\n",
    "    new_board[move[0]][move[1]] = player\n",
    "    return new_board\n",
    "\n",
    "# Example usage\n",
    "initial_board = [[EMPTY, EMPTY, EMPTY],\n",
    "                 [EMPTY, EMPTY, EMPTY],\n",
    "                 [EMPTY, EMPTY, EMPTY]]\n",
    "\n",
    "max_depth = 9  # Maximum depth for exploration\n",
    "\n",
    "# Player X (maximizing player) starts first\n",
    "result = minimax(initial_board, max_depth, True)\n",
    "print(f\"The optimal move for Player X has an evaluation of: {result}\")\n",
    "\n",
    "# Player O (minimizing player) starts first\n",
    "result = minimax(initial_board, max_depth, False)\n",
    "print(f\"The optimal move for Player O has an evaluation of: {result}\")"
   ]
  },
  {
   "cell_type": "markdown",
   "metadata": {},
   "source": [
    "## Tokenization , Stemming and Lemmatisation using NLTK after removing stop words"
   ]
  },
  {
   "cell_type": "code",
   "execution_count": 12,
   "metadata": {},
   "outputs": [
    {
     "name": "stderr",
     "output_type": "stream",
     "text": [
      "[nltk_data] Downloading package punkt to\n",
      "[nltk_data]     /Users/manavkumardubey/nltk_data...\n",
      "[nltk_data]   Package punkt is already up-to-date!\n",
      "[nltk_data] Downloading package stopwords to\n",
      "[nltk_data]     /Users/manavkumardubey/nltk_data...\n",
      "[nltk_data]   Package stopwords is already up-to-date!\n",
      "[nltk_data] Downloading package wordnet to\n",
      "[nltk_data]     /Users/manavkumardubey/nltk_data...\n",
      "[nltk_data]   Package wordnet is already up-to-date!\n"
     ]
    },
    {
     "name": "stdout",
     "output_type": "stream",
     "text": [
      "The quick brown fox jumps over the lazy dog near the riverbank under a bright moon.\n",
      "Tokens: ['The', 'quick', 'brown', 'fox', 'jumps', 'over', 'the', 'lazy', 'dog', 'near', 'the', 'riverbank', 'under', 'a', 'bright', 'moon', '.']\n",
      "After removing stopwords: ['quick', 'brown', 'fox', 'jumps', 'lazy', 'dog', 'near', 'riverbank', 'bright', 'moon', '.']\n",
      "Stemmed words: ['quick', 'brown', 'fox', 'jump', 'lazi', 'dog', 'near', 'riverbank', 'bright', 'moon', '.']\n",
      "Lemmatized words: ['quick', 'brown', 'fox', 'jump', 'lazy', 'dog', 'near', 'riverbank', 'bright', 'moon', '.']\n"
     ]
    }
   ],
   "source": [
    "import nltk\n",
    "from nltk.tokenize import word_tokenize\n",
    "from nltk.corpus import stopwords\n",
    "from nltk.stem import PorterStemmer, WordNetLemmatizer\n",
    "\n",
    "# Download NLTK data\n",
    "nltk.download('punkt')\n",
    "nltk.download('stopwords')\n",
    "nltk.download('wordnet')\n",
    "\n",
    "# Your input sentence\n",
    "sentence = input(\"\")\n",
    "\n",
    "# Tokenization\n",
    "tokens = word_tokenize(sentence)\n",
    "print(\"Tokens:\", tokens)\n",
    "\n",
    "# Removing stopwords\n",
    "filtered_words = [word for word in tokens if word.lower() not in stopwords.words('english')]\n",
    "print(\"After removing stopwords:\", filtered_words)\n",
    "\n",
    "# Stemming\n",
    "stemmer = PorterStemmer()\n",
    "stemmed_words = [stemmer.stem(word) for word in filtered_words]\n",
    "print(\"Stemmed words:\", stemmed_words)\n",
    "\n",
    "# Lemmatization\n",
    "lemmatizer = WordNetLemmatizer()\n",
    "lemmatized_words = [lemmatizer.lemmatize(word) for word in filtered_words]\n",
    "print(\"Lemmatized words:\", lemmatized_words)"
   ]
  },
  {
   "cell_type": "markdown",
   "metadata": {},
   "source": [
    "# MIN MAX"
   ]
  },
  {
   "cell_type": "code",
   "execution_count": 3,
   "metadata": {},
   "outputs": [
    {
     "name": "stdout",
     "output_type": "stream",
     "text": [
      "5\n",
      "-10\n"
     ]
    }
   ],
   "source": [
    "class Choice:\n",
    "    def __init__(self, left, right):\n",
    "        self.left = left\n",
    "        self.right = right\n",
    "\n",
    "class Terminal:\n",
    "    def __init__(self, value):\n",
    "        self.value = value\n",
    "\n",
    "tree = Choice(\n",
    "    Choice(Terminal(5), Terminal(10)),\n",
    "    Choice(Terminal(-10), Terminal(-20))\n",
    ")\n",
    "\n",
    "def min_max(tree, max_player):\n",
    "    if isinstance(tree, Choice):\n",
    "        lv = min_max(tree.left, not max_player)\n",
    "        rv = min_max(tree.right, not max_player)\n",
    "        if max_player:\n",
    "            return max(lv, rv)\n",
    "        else:\n",
    "            return min(lv, rv)\n",
    "    else:\n",
    "        return tree.value\n",
    "\n",
    "print(min_max(tree, True))\n",
    "print(min_max(tree, False))\n"
   ]
  },
  {
   "cell_type": "markdown",
   "metadata": {},
   "source": [
    "# TIC TAC TOE ALPHA BETA PRUNING"
   ]
  },
  {
   "cell_type": "code",
   "execution_count": 4,
   "metadata": {},
   "outputs": [
    {
     "name": "stdout",
     "output_type": "stream",
     "text": [
      "The optimal value is : 15\n"
     ]
    }
   ],
   "source": [
    "MAX, MIN = 1000, -1000\n",
    "def minimax(depth, nodeIndex, maximizingPlayer, values, alpha, beta):\n",
    "    if depth == 3:\n",
    "        return values[nodeIndex]\n",
    "    if maximizingPlayer:\n",
    "        best = MIN\n",
    "        for i in range(0, 2):\n",
    "            val = minimax(depth + 1, nodeIndex * 2 + i, False, values, alpha, beta)\n",
    "            best = max(best, val)\n",
    "            alpha = max(alpha, best)\n",
    "            if beta <= alpha:\n",
    "                break\n",
    "        return best\n",
    "    else:\n",
    "        best = MAX\n",
    "        for i in range(0, 2):\n",
    "            val = minimax(depth + 1, nodeIndex * 2 + i, True, values, alpha, beta)\n",
    "            best = min(best, val)\n",
    "            beta = min(beta, best)\n",
    "            if beta <= alpha:\n",
    "                break\n",
    "        return best\n",
    "\n",
    "if __name__ == \"__main__\":\n",
    "    values = [10, 15, 36, 9, 11, 2, 30, -1]\n",
    "    print(\"The optimal value is :\", minimax(0, 0, True, values, MIN, MAX))\n"
   ]
  },
  {
   "cell_type": "markdown",
   "metadata": {},
   "source": [
    "# TIC TAC TOE MIN MAX"
   ]
  },
  {
   "cell_type": "code",
   "execution_count": 7,
   "metadata": {},
   "outputs": [
    {
     "name": "stdout",
     "output_type": "stream",
     "text": [
      " | | \n",
      " | | \n",
      " | | \n",
      "-----\n",
      "Enter row: 1\n",
      "Enter column: 2\n",
      " | |O\n",
      " | |X\n",
      " | | \n",
      "-----\n",
      " | |O\n",
      " | |X\n",
      " | | \n",
      "-----\n",
      "Enter row: 2\n",
      "Enter column: 2\n",
      "O| |O\n",
      " | |X\n",
      " | |X\n",
      "-----\n",
      "O| |O\n",
      " | |X\n",
      " | |X\n",
      "-----\n",
      "Enter row: 2\n",
      "Enter column: 1\n",
      "O|O|O\n",
      " | |X\n",
      " |X|X\n",
      "-----\n",
      "You lose!\n"
     ]
    }
   ],
   "source": [
    "import math\n",
    "\n",
    "class Board:\n",
    "    def __init__(self):\n",
    "        self.board = [[' ' for _ in range(3)] for _ in range(3)]\n",
    "    \n",
    "    def print_board(self):\n",
    "        for row in self.board:\n",
    "            print(\"|\".join(row))\n",
    "        print(\"-\" * 5)\n",
    "    \n",
    "    def game_over(self):\n",
    "        for row in self.board:\n",
    "            if row.count('X') == 3 or row.count('O') == 3:\n",
    "                return True\n",
    "        for col in range(3):\n",
    "            if self.board[0][col] == self.board[1][col] == self.board[2][col] and self.board[0][col] != ' ':\n",
    "                return True\n",
    "        if self.board[0][0] == self.board[1][1] == self.board[2][2] and self.board[0][0] != ' ':\n",
    "            return True\n",
    "        if self.board[0][2] == self.board[1][1] == self.board[2][0] and self.board[0][2] != ' ':\n",
    "            return True\n",
    "        return False\n",
    "    \n",
    "    def get_empty_cells(self):\n",
    "        return [(i, j) for i in range(3) for j in range(3) if self.board[i][j] == ' ']\n",
    "    \n",
    "    def make_move(self, row, col, player):\n",
    "        self.board[row][col] = player\n",
    "    \n",
    "    def undo_move(self, row, col):\n",
    "        self.board[row][col] = ' '\n",
    "\n",
    "def minimax(board, depth, is_maximizing_player, alpha, beta):\n",
    "    if board.game_over() or depth == 0:\n",
    "        if board.game_over():\n",
    "            if is_maximizing_player:\n",
    "                return -1\n",
    "            else:\n",
    "                return 1\n",
    "        else:\n",
    "            return 0\n",
    "    if is_maximizing_player:\n",
    "        max_eval = -math.inf\n",
    "        for (row, col) in board.get_empty_cells():\n",
    "            board.make_move(row, col, 'O')\n",
    "            eval = minimax(board, depth - 1, False, alpha, beta)\n",
    "            board.undo_move(row, col)\n",
    "            max_eval = max(max_eval, eval)\n",
    "            alpha = max(alpha, eval)\n",
    "            if beta <= alpha:\n",
    "                break\n",
    "        return max_eval\n",
    "    else:\n",
    "        min_eval = math.inf\n",
    "        for (row, col) in board.get_empty_cells():\n",
    "            board.make_move(row, col, 'X')\n",
    "            eval = minimax(board, depth - 1, True, alpha, beta)\n",
    "            board.undo_move(row, col)\n",
    "            min_eval = min(min_eval, eval)\n",
    "            beta = min(beta, eval)\n",
    "            if beta <= alpha:\n",
    "                break\n",
    "        return min_eval\n",
    "\n",
    "def find_best_move(board):\n",
    "    best_move = (-1, -1)\n",
    "    best_eval = -math.inf\n",
    "    for (row, col) in board.get_empty_cells():\n",
    "        board.make_move(row, col, 'O')\n",
    "        eval = minimax(board, 5, False, -math.inf, math.inf)  # Depth is set to 5\n",
    "        board.undo_move(row, col)\n",
    "        if eval > best_eval:\n",
    "            best_eval = eval\n",
    "            best_move = (row, col)\n",
    "    return best_move\n",
    "\n",
    "def play_tic_tac_toe():\n",
    "    board = Board()\n",
    "    while not board.game_over():\n",
    "        board.print_board()\n",
    "        row = int(input(\"Enter row: \"))\n",
    "        col = int(input(\"Enter column: \"))\n",
    "        board.make_move(row, col, 'X')\n",
    "        if board.game_over():\n",
    "            break\n",
    "        best_move = find_best_move(board)\n",
    "        board.make_move(best_move[0], best_move[1], 'O')\n",
    "        board.print_board()\n",
    "    if 'O' in board.board[0]:\n",
    "        print(\"You lose!\")\n",
    "    elif 'X' in board.board[0]:\n",
    "        print(\"You win!\")\n",
    "    else:\n",
    "        print(\"It's a draw!\")\n",
    "\n",
    "play_tic_tac_toe()\n",
    "\n"
   ]
  },
  {
   "cell_type": "markdown",
   "metadata": {},
   "source": [
    "# STOP WORDS"
   ]
  },
  {
   "cell_type": "code",
   "execution_count": 8,
   "metadata": {},
   "outputs": [
    {
     "name": "stderr",
     "output_type": "stream",
     "text": [
      "[nltk_data] Downloading package punkt to\n",
      "[nltk_data]     /Users/manavkumardubey/nltk_data...\n",
      "[nltk_data]   Package punkt is already up-to-date!\n",
      "[nltk_data] Downloading package stopwords to\n",
      "[nltk_data]     /Users/manavkumardubey/nltk_data...\n",
      "[nltk_data]   Package stopwords is already up-to-date!\n",
      "[nltk_data] Downloading package wordnet to\n",
      "[nltk_data]     /Users/manavkumardubey/nltk_data...\n",
      "[nltk_data]   Package wordnet is already up-to-date!\n"
     ]
    },
    {
     "name": "stdout",
     "output_type": "stream",
     "text": [
      "Processed text: ['Tokenization', 'crucial', 'step', 'natural', 'language', 'processing', '.', 'involves', 'breaking', 'text', 'word', 'smaller', 'sub-texts', 'known', 'token', '.']\n"
     ]
    }
   ],
   "source": [
    "import nltk\n",
    "from nltk.tokenize import word_tokenize\n",
    "from nltk.corpus import stopwords\n",
    "from nltk.stem import WordNetLemmatizer\n",
    "\n",
    "nltk.download('punkt')\n",
    "nltk.download('stopwords')\n",
    "nltk.download('wordnet')\n",
    "\n",
    "def preprocess_text(text):\n",
    "    tokens = word_tokenize(text)\n",
    "    # Removal of stop words\n",
    "    stop_words = set(stopwords.words('english'))\n",
    "    tokens = [token for token in tokens if token.lower() not in stop_words]\n",
    "    lemmatizer = WordNetLemmatizer()\n",
    "    tokens = [lemmatizer.lemmatize(token) for token in tokens]\n",
    "    return tokens\n",
    "\n",
    "text= \"Tokenization is a crucial step in natural language processing. It involves breaking down text into words or smaller sub-texts known as tokens.\"\n",
    "processed_text = preprocess_text(text)\n",
    "print(\"Processed text:\", processed_text)\n"
   ]
  },
  {
   "cell_type": "markdown",
   "metadata": {},
   "source": [
    "# BOW"
   ]
  },
  {
   "cell_type": "code",
   "execution_count": 9,
   "metadata": {},
   "outputs": [
    {
     "name": "stdout",
     "output_type": "stream",
     "text": [
      "['bag-of-words ( bow ) statistical language model used analyze text documents based word count .']\n",
      "[[1 1 1 1 1 1 1 1 1 1 1 1 1 1]]\n"
     ]
    }
   ],
   "source": [
    "from nltk.tokenize import word_tokenize\n",
    "import pandas as pd\n",
    "from sklearn.feature_extraction.text import CountVectorizer\n",
    "from nltk.corpus import stopwords\n",
    "\n",
    "pd.set_option('max_colwidth', 100)\n",
    "\n",
    "texts = [\"Bag-of-words (BoW) is a statistical language model used to analyze text and documents based on word count.\"]\n",
    "\n",
    "def preprocess(text):\n",
    "    text = text.lower()\n",
    "    words = word_tokenize(text)\n",
    "    filtered_words = [word for word in words if word not in stopwords.words(\"english\")]\n",
    "    text = \" \".join(filtered_words)\n",
    "    return text\n",
    "\n",
    "texts = [preprocess(text) for text in texts]\n",
    "print(texts)\n",
    "\n",
    "vectorizer = CountVectorizer()\n",
    "bag_of_words = vectorizer.fit_transform(texts)\n",
    "print(bag_of_words.toarray())\n"
   ]
  },
  {
   "cell_type": "markdown",
   "metadata": {},
   "source": [
    "# XOR GATE"
   ]
  },
  {
   "cell_type": "code",
   "execution_count": 10,
   "metadata": {},
   "outputs": [
    {
     "name": "stdout",
     "output_type": "stream",
     "text": [
      "XOR Gate Truth Table:\n",
      "0 XOR 0 = 0\n",
      "0 XOR 1 = 1\n",
      "1 XOR 0 = True\n",
      "1 XOR 1 = False\n"
     ]
    }
   ],
   "source": [
    "def xor_gate(a, b):\n",
    "    return (a and not b) or (not a and b)\n",
    "\n",
    "print(\"XOR Gate Truth Table:\")\n",
    "print(\"0 XOR 0 =\", xor_gate(0, 0))\n",
    "print(\"0 XOR 1 =\", xor_gate(0, 1))\n",
    "print(\"1 XOR 0 =\", xor_gate(1, 0))\n",
    "print(\"1 XOR 1 =\", xor_gate(1, 1))\n"
   ]
  },
  {
   "cell_type": "code",
   "execution_count": null,
   "metadata": {},
   "outputs": [],
   "source": []
  }
 ],
 "metadata": {
  "colab": {
   "authorship_tag": "ABX9TyPnLG4K2QjiO8tQG4Zlw6/b",
   "provenance": []
  },
  "kernelspec": {
   "display_name": "Python 3 (ipykernel)",
   "language": "python",
   "name": "python3"
  },
  "language_info": {
   "codemirror_mode": {
    "name": "ipython",
    "version": 3
   },
   "file_extension": ".py",
   "mimetype": "text/x-python",
   "name": "python",
   "nbconvert_exporter": "python",
   "pygments_lexer": "ipython3",
   "version": "3.9.6"
  }
 },
 "nbformat": 4,
 "nbformat_minor": 1
}

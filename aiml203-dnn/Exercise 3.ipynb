{
 "cells": [
  {
   "cell_type": "markdown",
   "metadata": {
    "id": "iJ0ZKrDxffoG"
   },
   "source": [
    "#**Importing Necessary Libraries**"
   ]
  },
  {
   "cell_type": "code",
   "execution_count": 1,
   "metadata": {
    "executionInfo": {
     "elapsed": 842,
     "status": "ok",
     "timestamp": 1684212181783,
     "user": {
      "displayName": "KARNATI MOHAN",
      "userId": "16604712269571437600"
     },
     "user_tz": -330
    },
    "id": "JuKSi3EJyGb-"
   },
   "outputs": [],
   "source": [
    "import numpy as np\n",
    "import pandas as pd"
   ]
  },
  {
   "cell_type": "markdown",
   "metadata": {
    "id": "92epT7aZgF74"
   },
   "source": [
    "#**Loading the Combined Cycle Power Plant Dataset**\n",
    "\n",
    "The dataset contains 9568 data points collected from a Combined Cycle Power Plant over 6 years (2006-2011), when the power plant was set to work with full load. Features consist of **hourly average ambient variables Temperature (AT)**, **Ambient Pressure (AP)**, **Relative Humidity (RH)** and **Exhaust Vacuum (V)** to predict the net **hourly electrical energy output (PE)** of the plant.\n",
    "\n",
    "* **For more information visit below link:**\n",
    "Link: https://archive.ics.uci.edu/ml/datasets/Combined+Cycle+Power+Plant\n",
    "\n",
    "\n",
    "\n"
   ]
  },
  {
   "cell_type": "code",
   "execution_count": 2,
   "metadata": {
    "colab": {
     "base_uri": "https://localhost:8080/",
     "height": 206
    },
    "executionInfo": {
     "elapsed": 3182,
     "status": "ok",
     "timestamp": 1684212184960,
     "user": {
      "displayName": "KARNATI MOHAN",
      "userId": "16604712269571437600"
     },
     "user_tz": -330
    },
    "id": "mslwX-u6eqdi",
    "outputId": "a206ad01-c607-40ff-f8c1-7a76746d74b6"
   },
   "outputs": [
    {
     "data": {
      "text/html": [
       "<div>\n",
       "<style scoped>\n",
       "    .dataframe tbody tr th:only-of-type {\n",
       "        vertical-align: middle;\n",
       "    }\n",
       "\n",
       "    .dataframe tbody tr th {\n",
       "        vertical-align: top;\n",
       "    }\n",
       "\n",
       "    .dataframe thead th {\n",
       "        text-align: right;\n",
       "    }\n",
       "</style>\n",
       "<table border=\"1\" class=\"dataframe\">\n",
       "  <thead>\n",
       "    <tr style=\"text-align: right;\">\n",
       "      <th></th>\n",
       "      <th>AT</th>\n",
       "      <th>V</th>\n",
       "      <th>AP</th>\n",
       "      <th>RH</th>\n",
       "      <th>PE</th>\n",
       "    </tr>\n",
       "  </thead>\n",
       "  <tbody>\n",
       "    <tr>\n",
       "      <th>0</th>\n",
       "      <td>14.96</td>\n",
       "      <td>41.76</td>\n",
       "      <td>1024.07</td>\n",
       "      <td>73.17</td>\n",
       "      <td>463.26</td>\n",
       "    </tr>\n",
       "    <tr>\n",
       "      <th>1</th>\n",
       "      <td>25.18</td>\n",
       "      <td>62.96</td>\n",
       "      <td>1020.04</td>\n",
       "      <td>59.08</td>\n",
       "      <td>444.37</td>\n",
       "    </tr>\n",
       "    <tr>\n",
       "      <th>2</th>\n",
       "      <td>5.11</td>\n",
       "      <td>39.40</td>\n",
       "      <td>1012.16</td>\n",
       "      <td>92.14</td>\n",
       "      <td>488.56</td>\n",
       "    </tr>\n",
       "    <tr>\n",
       "      <th>3</th>\n",
       "      <td>20.86</td>\n",
       "      <td>57.32</td>\n",
       "      <td>1010.24</td>\n",
       "      <td>76.64</td>\n",
       "      <td>446.48</td>\n",
       "    </tr>\n",
       "    <tr>\n",
       "      <th>4</th>\n",
       "      <td>10.82</td>\n",
       "      <td>37.50</td>\n",
       "      <td>1009.23</td>\n",
       "      <td>96.62</td>\n",
       "      <td>473.90</td>\n",
       "    </tr>\n",
       "  </tbody>\n",
       "</table>\n",
       "</div>"
      ],
      "text/plain": [
       "      AT      V       AP     RH      PE\n",
       "0  14.96  41.76  1024.07  73.17  463.26\n",
       "1  25.18  62.96  1020.04  59.08  444.37\n",
       "2   5.11  39.40  1012.16  92.14  488.56\n",
       "3  20.86  57.32  1010.24  76.64  446.48\n",
       "4  10.82  37.50  1009.23  96.62  473.90"
      ]
     },
     "execution_count": 2,
     "metadata": {},
     "output_type": "execute_result"
    }
   ],
   "source": [
    "Powerplant_data = pd.read_excel('Folds5x2_pp.xlsx')\n",
    "Powerplant_data.head(5)"
   ]
  },
  {
   "cell_type": "markdown",
   "metadata": {
    "id": "TgacS0JggQgr"
   },
   "source": [
    "#**Accessing the Column Names in the Dataset**"
   ]
  },
  {
   "cell_type": "code",
   "execution_count": 3,
   "metadata": {
    "colab": {
     "base_uri": "https://localhost:8080/"
    },
    "executionInfo": {
     "elapsed": 16,
     "status": "ok",
     "timestamp": 1684212184960,
     "user": {
      "displayName": "KARNATI MOHAN",
      "userId": "16604712269571437600"
     },
     "user_tz": -330
    },
    "id": "hqRcQ0jffWS6",
    "outputId": "68bea117-e332-44e1-fe43-53689ea8cb55"
   },
   "outputs": [
    {
     "data": {
      "text/plain": [
       "Index(['AT', 'V', 'AP', 'RH', 'PE'], dtype='object')"
      ]
     },
     "execution_count": 3,
     "metadata": {},
     "output_type": "execute_result"
    }
   ],
   "source": [
    "Powerplant_data.columns"
   ]
  },
  {
   "cell_type": "markdown",
   "metadata": {
    "id": "WbWc384ZgkNk"
   },
   "source": [
    "#**Finding the Shape of the Dataset**"
   ]
  },
  {
   "cell_type": "code",
   "execution_count": 4,
   "metadata": {
    "colab": {
     "base_uri": "https://localhost:8080/"
    },
    "executionInfo": {
     "elapsed": 15,
     "status": "ok",
     "timestamp": 1684212184961,
     "user": {
      "displayName": "KARNATI MOHAN",
      "userId": "16604712269571437600"
     },
     "user_tz": -330
    },
    "id": "v3r-6BsCfO6O",
    "outputId": "2c1d71e8-a351-4f94-b882-2ecbc7db780e"
   },
   "outputs": [
    {
     "data": {
      "text/plain": [
       "(9568, 5)"
      ]
     },
     "execution_count": 4,
     "metadata": {},
     "output_type": "execute_result"
    }
   ],
   "source": [
    "Powerplant_data.shape"
   ]
  },
  {
   "cell_type": "code",
   "execution_count": 5,
   "metadata": {
    "colab": {
     "base_uri": "https://localhost:8080/"
    },
    "executionInfo": {
     "elapsed": 14,
     "status": "ok",
     "timestamp": 1684212184961,
     "user": {
      "displayName": "KARNATI MOHAN",
      "userId": "16604712269571437600"
     },
     "user_tz": -330
    },
    "id": "DR5iJOoggqVl",
    "outputId": "d83fa7e3-d6a9-413b-cd3e-0f0e71ef6383"
   },
   "outputs": [
    {
     "name": "stdout",
     "output_type": "stream",
     "text": [
      "<class 'pandas.core.frame.DataFrame'>\n",
      "RangeIndex: 9568 entries, 0 to 9567\n",
      "Data columns (total 5 columns):\n",
      " #   Column  Non-Null Count  Dtype  \n",
      "---  ------  --------------  -----  \n",
      " 0   AT      9568 non-null   float64\n",
      " 1   V       9568 non-null   float64\n",
      " 2   AP      9568 non-null   float64\n",
      " 3   RH      9568 non-null   float64\n",
      " 4   PE      9568 non-null   float64\n",
      "dtypes: float64(5)\n",
      "memory usage: 373.9 KB\n"
     ]
    }
   ],
   "source": [
    "Powerplant_data.info()"
   ]
  },
  {
   "cell_type": "markdown",
   "metadata": {
    "id": "MOi7okQ_tQrB"
   },
   "source": [
    "#**Checking Missing Values**"
   ]
  },
  {
   "cell_type": "code",
   "execution_count": 6,
   "metadata": {
    "colab": {
     "base_uri": "https://localhost:8080/"
    },
    "executionInfo": {
     "elapsed": 12,
     "status": "ok",
     "timestamp": 1684212184961,
     "user": {
      "displayName": "KARNATI MOHAN",
      "userId": "16604712269571437600"
     },
     "user_tz": -330
    },
    "id": "3XbsLJg0tN-L",
    "outputId": "9fc2efbd-0da9-4a01-885d-796092dbd682"
   },
   "outputs": [
    {
     "data": {
      "text/plain": [
       "AT    0\n",
       "V     0\n",
       "AP    0\n",
       "RH    0\n",
       "PE    0\n",
       "dtype: int64"
      ]
     },
     "execution_count": 6,
     "metadata": {},
     "output_type": "execute_result"
    }
   ],
   "source": [
    "Powerplant_data.isna().sum()"
   ]
  },
  {
   "cell_type": "markdown",
   "metadata": {
    "id": "gL5klaMFg4U0"
   },
   "source": [
    "# **Number of Unique Items in Each Column**"
   ]
  },
  {
   "cell_type": "code",
   "execution_count": 7,
   "metadata": {
    "colab": {
     "base_uri": "https://localhost:8080/"
    },
    "executionInfo": {
     "elapsed": 12,
     "status": "ok",
     "timestamp": 1684212184962,
     "user": {
      "displayName": "KARNATI MOHAN",
      "userId": "16604712269571437600"
     },
     "user_tz": -330
    },
    "id": "yNjlTn9yhJtA",
    "outputId": "c01cd1b6-82be-48e5-b150-a9a69594279b"
   },
   "outputs": [
    {
     "data": {
      "text/plain": [
       "AT    2773\n",
       "V      634\n",
       "AP    2517\n",
       "RH    4546\n",
       "PE    4836\n",
       "dtype: int64"
      ]
     },
     "execution_count": 7,
     "metadata": {},
     "output_type": "execute_result"
    }
   ],
   "source": [
    "Powerplant_data.nunique()"
   ]
  },
  {
   "cell_type": "markdown",
   "metadata": {
    "id": "RBhC2pV6kG-m"
   },
   "source": [
    "#**Seperating Label from Data**"
   ]
  },
  {
   "cell_type": "code",
   "execution_count": 8,
   "metadata": {
    "executionInfo": {
     "elapsed": 9,
     "status": "ok",
     "timestamp": 1684212184962,
     "user": {
      "displayName": "KARNATI MOHAN",
      "userId": "16604712269571437600"
     },
     "user_tz": -330
    },
    "id": "CU-h5H-vilid"
   },
   "outputs": [],
   "source": [
    "X = Powerplant_data.iloc[:, :-1].values\n",
    "y = Powerplant_data.iloc[:, -1].values"
   ]
  },
  {
   "cell_type": "markdown",
   "metadata": {
    "id": "yH-AFtD6VZUG"
   },
   "source": [
    "or"
   ]
  },
  {
   "cell_type": "code",
   "execution_count": 9,
   "metadata": {
    "executionInfo": {
     "elapsed": 5,
     "status": "ok",
     "timestamp": 1684212185712,
     "user": {
      "displayName": "KARNATI MOHAN",
      "userId": "16604712269571437600"
     },
     "user_tz": -330
    },
    "id": "0SEu3sjWVaMl"
   },
   "outputs": [],
   "source": [
    "# y = Powerplant_data['PE']\n",
    "# X = Powerplant_data.drop(['PE'],axis=1)"
   ]
  },
  {
   "cell_type": "markdown",
   "metadata": {
    "id": "OB8cY_fNk2KG"
   },
   "source": [
    "#**Splitting the Data into Training and Testing**"
   ]
  },
  {
   "cell_type": "code",
   "execution_count": 10,
   "metadata": {
    "executionInfo": {
     "elapsed": 1052,
     "status": "ok",
     "timestamp": 1684212186760,
     "user": {
      "displayName": "KARNATI MOHAN",
      "userId": "16604712269571437600"
     },
     "user_tz": -330
    },
    "id": "ONhh9fw5kunZ"
   },
   "outputs": [],
   "source": [
    "from sklearn.model_selection import train_test_split\n",
    "X_train, X_test, y_train, y_test = train_test_split(X, y, test_size = 0.2, shuffle=True)\n",
    "X_train, X_val, y_train, y_val = train_test_split(X_train,y_train, test_size = 0.2, shuffle=True)"
   ]
  },
  {
   "cell_type": "code",
   "execution_count": 11,
   "metadata": {
    "colab": {
     "base_uri": "https://localhost:8080/"
    },
    "executionInfo": {
     "elapsed": 8,
     "status": "ok",
     "timestamp": 1684212186761,
     "user": {
      "displayName": "KARNATI MOHAN",
      "userId": "16604712269571437600"
     },
     "user_tz": -330
    },
    "id": "n7QUNsrflJyd",
    "outputId": "53471f08-3542-4d89-caa1-40fe7f8aa228"
   },
   "outputs": [
    {
     "name": "stdout",
     "output_type": "stream",
     "text": [
      "Shape of the X_train (6123, 4)\n",
      "Shape of the X_test (1914, 4)\n",
      "Shape of the X_val (1531, 4)\n",
      "Shape of the y_train (6123,)\n",
      "Shape of the y_test (1914,)\n",
      "Shape of the y_val (1531,)\n"
     ]
    }
   ],
   "source": [
    "print(\"Shape of the X_train\", X_train.shape)\n",
    "print(\"Shape of the X_test\", X_test.shape)\n",
    "print(\"Shape of the X_val\", X_val.shape)\n",
    "print(\"Shape of the y_train\", y_train.shape)\n",
    "print(\"Shape of the y_test\", y_test.shape)\n",
    "print(\"Shape of the y_val\", y_val.shape)"
   ]
  },
  {
   "cell_type": "markdown",
   "metadata": {
    "id": "N-18bjO3rOHB"
   },
   "source": [
    "#**Building the ANN Model**"
   ]
  },
  {
   "cell_type": "code",
   "execution_count": 12,
   "metadata": {
    "executionInfo": {
     "elapsed": 2247,
     "status": "ok",
     "timestamp": 1684212189002,
     "user": {
      "displayName": "KARNATI MOHAN",
      "userId": "16604712269571437600"
     },
     "user_tz": -330
    },
    "id": "lYWxtWt4lwsa"
   },
   "outputs": [],
   "source": [
    "# sequential model to initialise our ann and dense module to build the layers\n",
    "from keras.models import Sequential\n",
    "from keras.layers import Dense"
   ]
  },
  {
   "cell_type": "code",
   "execution_count": 13,
   "metadata": {
    "executionInfo": {
     "elapsed": 6,
     "status": "ok",
     "timestamp": 1684212189003,
     "user": {
      "displayName": "KARNATI MOHAN",
      "userId": "16604712269571437600"
     },
     "user_tz": -330
    },
    "id": "5SHVdj9Xl6se"
   },
   "outputs": [],
   "source": [
    "classifier = Sequential()\n",
    "# Adding the input layer and the first hidden layer\n",
    "classifier.add(Dense(units = 8, kernel_initializer = 'uniform', activation = 'relu', input_dim = 4))\n",
    "\n",
    "# Adding the second hidden layer\n",
    "classifier.add(Dense(units = 16, kernel_initializer = 'uniform', activation = 'relu'))\n",
    "\n",
    "# Adding the third hidden layer\n",
    "classifier.add(Dense(units = 32, kernel_initializer = 'uniform', activation = 'relu'))\n",
    "\n",
    "# Adding the output layer\n",
    "classifier.add(Dense(units = 1, kernel_initializer = 'uniform'))"
   ]
  },
  {
   "cell_type": "markdown",
   "metadata": {
    "id": "MDjrKcLnrSw0"
   },
   "source": [
    "# **Compiling and Fitting the Model**"
   ]
  },
  {
   "cell_type": "code",
   "execution_count": 14,
   "metadata": {
    "colab": {
     "base_uri": "https://localhost:8080/"
    },
    "executionInfo": {
     "elapsed": 75894,
     "status": "ok",
     "timestamp": 1684212264892,
     "user": {
      "displayName": "KARNATI MOHAN",
      "userId": "16604712269571437600"
     },
     "user_tz": -330
    },
    "id": "RRtVuxFumFcS",
    "outputId": "ca7156ce-3a8f-42b4-8659-87db04c49ff5"
   },
   "outputs": [
    {
     "name": "stdout",
     "output_type": "stream",
     "text": [
      "Epoch 1/200\n",
      "192/192 [==============================] - 1s 2ms/step - loss: 90063.5078 - mean_squared_logarithmic_error: 8.2929 - val_loss: 429.9030 - val_mean_squared_logarithmic_error: 0.0021\n",
      "Epoch 2/200\n",
      "192/192 [==============================] - 0s 1ms/step - loss: 409.3751 - mean_squared_logarithmic_error: 0.0020 - val_loss: 392.1509 - val_mean_squared_logarithmic_error: 0.0019\n",
      "Epoch 3/200\n",
      "192/192 [==============================] - 0s 1ms/step - loss: 372.5641 - mean_squared_logarithmic_error: 0.0018 - val_loss: 352.0251 - val_mean_squared_logarithmic_error: 0.0017\n",
      "Epoch 4/200\n",
      "192/192 [==============================] - 0s 1ms/step - loss: 330.9935 - mean_squared_logarithmic_error: 0.0016 - val_loss: 309.2611 - val_mean_squared_logarithmic_error: 0.0015\n",
      "Epoch 5/200\n",
      "192/192 [==============================] - 0s 1ms/step - loss: 288.4067 - mean_squared_logarithmic_error: 0.0014 - val_loss: 266.8417 - val_mean_squared_logarithmic_error: 0.0013\n",
      "Epoch 6/200\n",
      "192/192 [==============================] - 0s 1ms/step - loss: 245.7368 - mean_squared_logarithmic_error: 0.0012 - val_loss: 224.9782 - val_mean_squared_logarithmic_error: 0.0011\n",
      "Epoch 7/200\n",
      "192/192 [==============================] - 0s 1ms/step - loss: 207.0063 - mean_squared_logarithmic_error: 9.8761e-04 - val_loss: 187.0763 - val_mean_squared_logarithmic_error: 8.8835e-04\n",
      "Epoch 8/200\n",
      "192/192 [==============================] - 0s 1ms/step - loss: 170.7431 - mean_squared_logarithmic_error: 8.1387e-04 - val_loss: 153.8241 - val_mean_squared_logarithmic_error: 7.3674e-04\n",
      "Epoch 9/200\n",
      "192/192 [==============================] - 0s 1ms/step - loss: 139.3638 - mean_squared_logarithmic_error: 6.6383e-04 - val_loss: 123.5921 - val_mean_squared_logarithmic_error: 5.8912e-04\n",
      "Epoch 10/200\n",
      "192/192 [==============================] - 0s 1ms/step - loss: 113.0740 - mean_squared_logarithmic_error: 5.3815e-04 - val_loss: 100.4603 - val_mean_squared_logarithmic_error: 4.7938e-04\n",
      "Epoch 11/200\n",
      "192/192 [==============================] - 0s 1ms/step - loss: 92.3787 - mean_squared_logarithmic_error: 4.3958e-04 - val_loss: 81.9406 - val_mean_squared_logarithmic_error: 3.8951e-04\n",
      "Epoch 12/200\n",
      "192/192 [==============================] - 0s 1ms/step - loss: 76.9326 - mean_squared_logarithmic_error: 3.6616e-04 - val_loss: 68.2981 - val_mean_squared_logarithmic_error: 3.2444e-04\n",
      "Epoch 13/200\n",
      "192/192 [==============================] - 0s 1ms/step - loss: 64.5533 - mean_squared_logarithmic_error: 3.0755e-04 - val_loss: 59.1313 - val_mean_squared_logarithmic_error: 2.8344e-04\n",
      "Epoch 14/200\n",
      "192/192 [==============================] - 0s 1ms/step - loss: 55.9278 - mean_squared_logarithmic_error: 2.6666e-04 - val_loss: 50.3264 - val_mean_squared_logarithmic_error: 2.3981e-04\n",
      "Epoch 15/200\n",
      "192/192 [==============================] - 0s 1ms/step - loss: 49.4858 - mean_squared_logarithmic_error: 2.3600e-04 - val_loss: 44.6102 - val_mean_squared_logarithmic_error: 2.1339e-04\n",
      "Epoch 16/200\n",
      "192/192 [==============================] - 0s 1ms/step - loss: 44.1839 - mean_squared_logarithmic_error: 2.1103e-04 - val_loss: 42.7017 - val_mean_squared_logarithmic_error: 2.0324e-04\n",
      "Epoch 17/200\n",
      "192/192 [==============================] - 0s 1ms/step - loss: 40.1851 - mean_squared_logarithmic_error: 1.9195e-04 - val_loss: 38.6393 - val_mean_squared_logarithmic_error: 1.8411e-04\n",
      "Epoch 18/200\n",
      "192/192 [==============================] - 0s 1ms/step - loss: 37.2440 - mean_squared_logarithmic_error: 1.7769e-04 - val_loss: 34.1493 - val_mean_squared_logarithmic_error: 1.6352e-04\n",
      "Epoch 19/200\n",
      "192/192 [==============================] - 0s 1ms/step - loss: 34.9876 - mean_squared_logarithmic_error: 1.6700e-04 - val_loss: 31.7948 - val_mean_squared_logarithmic_error: 1.5194e-04\n",
      "Epoch 20/200\n",
      "192/192 [==============================] - 0s 1ms/step - loss: 33.2630 - mean_squared_logarithmic_error: 1.5860e-04 - val_loss: 30.3901 - val_mean_squared_logarithmic_error: 1.4540e-04\n",
      "Epoch 21/200\n",
      "192/192 [==============================] - 0s 1ms/step - loss: 31.6358 - mean_squared_logarithmic_error: 1.5080e-04 - val_loss: 29.4627 - val_mean_squared_logarithmic_error: 1.4105e-04\n",
      "Epoch 22/200\n",
      "192/192 [==============================] - 0s 1ms/step - loss: 30.7247 - mean_squared_logarithmic_error: 1.4642e-04 - val_loss: 28.8232 - val_mean_squared_logarithmic_error: 1.3766e-04\n",
      "Epoch 23/200\n",
      "192/192 [==============================] - 0s 1ms/step - loss: 30.3616 - mean_squared_logarithmic_error: 1.4467e-04 - val_loss: 30.4623 - val_mean_squared_logarithmic_error: 1.4551e-04\n",
      "Epoch 24/200\n",
      "192/192 [==============================] - 0s 1ms/step - loss: 30.0356 - mean_squared_logarithmic_error: 1.4301e-04 - val_loss: 28.1636 - val_mean_squared_logarithmic_error: 1.3495e-04\n",
      "Epoch 25/200\n",
      "192/192 [==============================] - 0s 1ms/step - loss: 30.5234 - mean_squared_logarithmic_error: 1.4559e-04 - val_loss: 26.6260 - val_mean_squared_logarithmic_error: 1.2737e-04\n",
      "Epoch 26/200\n",
      "192/192 [==============================] - 0s 1ms/step - loss: 29.6614 - mean_squared_logarithmic_error: 1.4133e-04 - val_loss: 31.3230 - val_mean_squared_logarithmic_error: 1.4999e-04\n",
      "Epoch 27/200\n",
      "192/192 [==============================] - 0s 1ms/step - loss: 29.7874 - mean_squared_logarithmic_error: 1.4212e-04 - val_loss: 26.5127 - val_mean_squared_logarithmic_error: 1.2692e-04\n",
      "Epoch 28/200\n",
      "192/192 [==============================] - 0s 1ms/step - loss: 29.9844 - mean_squared_logarithmic_error: 1.4297e-04 - val_loss: 26.8191 - val_mean_squared_logarithmic_error: 1.2842e-04\n",
      "Epoch 29/200\n",
      "192/192 [==============================] - 0s 1ms/step - loss: 28.7039 - mean_squared_logarithmic_error: 1.3677e-04 - val_loss: 30.3475 - val_mean_squared_logarithmic_error: 1.4546e-04\n",
      "Epoch 30/200\n",
      "192/192 [==============================] - 0s 1ms/step - loss: 28.9943 - mean_squared_logarithmic_error: 1.3822e-04 - val_loss: 25.9534 - val_mean_squared_logarithmic_error: 1.2450e-04\n",
      "Epoch 31/200\n",
      "192/192 [==============================] - 0s 1ms/step - loss: 28.7316 - mean_squared_logarithmic_error: 1.3708e-04 - val_loss: 32.6370 - val_mean_squared_logarithmic_error: 1.5678e-04\n",
      "Epoch 32/200\n",
      "192/192 [==============================] - 0s 2ms/step - loss: 29.2521 - mean_squared_logarithmic_error: 1.3953e-04 - val_loss: 29.1546 - val_mean_squared_logarithmic_error: 1.3989e-04\n",
      "Epoch 33/200\n",
      "192/192 [==============================] - 0s 1ms/step - loss: 28.2818 - mean_squared_logarithmic_error: 1.3490e-04 - val_loss: 25.6879 - val_mean_squared_logarithmic_error: 1.2333e-04\n",
      "Epoch 34/200\n",
      "192/192 [==============================] - 0s 1ms/step - loss: 28.2447 - mean_squared_logarithmic_error: 1.3480e-04 - val_loss: 26.5800 - val_mean_squared_logarithmic_error: 1.2746e-04\n",
      "Epoch 35/200\n",
      "192/192 [==============================] - 0s 1ms/step - loss: 29.1115 - mean_squared_logarithmic_error: 1.3902e-04 - val_loss: 29.6905 - val_mean_squared_logarithmic_error: 1.4268e-04\n",
      "Epoch 36/200\n",
      "192/192 [==============================] - 0s 1ms/step - loss: 27.8614 - mean_squared_logarithmic_error: 1.3307e-04 - val_loss: 32.8273 - val_mean_squared_logarithmic_error: 1.5776e-04\n",
      "Epoch 37/200\n",
      "192/192 [==============================] - 0s 1ms/step - loss: 28.8670 - mean_squared_logarithmic_error: 1.3784e-04 - val_loss: 26.7135 - val_mean_squared_logarithmic_error: 1.2823e-04\n",
      "Epoch 38/200\n",
      "192/192 [==============================] - 0s 1ms/step - loss: 28.4486 - mean_squared_logarithmic_error: 1.3586e-04 - val_loss: 24.5482 - val_mean_squared_logarithmic_error: 1.1787e-04\n",
      "Epoch 39/200\n",
      "192/192 [==============================] - 0s 1ms/step - loss: 29.0915 - mean_squared_logarithmic_error: 1.3899e-04 - val_loss: 24.4785 - val_mean_squared_logarithmic_error: 1.1766e-04\n",
      "Epoch 40/200\n",
      "192/192 [==============================] - 0s 1ms/step - loss: 28.3413 - mean_squared_logarithmic_error: 1.3545e-04 - val_loss: 28.0289 - val_mean_squared_logarithmic_error: 1.3478e-04\n",
      "Epoch 41/200\n",
      "192/192 [==============================] - 0s 1ms/step - loss: 27.8623 - mean_squared_logarithmic_error: 1.3312e-04 - val_loss: 24.3682 - val_mean_squared_logarithmic_error: 1.1707e-04\n",
      "Epoch 42/200\n"
     ]
    },
    {
     "name": "stdout",
     "output_type": "stream",
     "text": [
      "192/192 [==============================] - 0s 1ms/step - loss: 28.2748 - mean_squared_logarithmic_error: 1.3511e-04 - val_loss: 29.4572 - val_mean_squared_logarithmic_error: 1.4170e-04\n",
      "Epoch 43/200\n",
      "192/192 [==============================] - 0s 1ms/step - loss: 28.6222 - mean_squared_logarithmic_error: 1.3689e-04 - val_loss: 25.5110 - val_mean_squared_logarithmic_error: 1.2259e-04\n",
      "Epoch 44/200\n",
      "192/192 [==============================] - 0s 1ms/step - loss: 29.1815 - mean_squared_logarithmic_error: 1.3954e-04 - val_loss: 27.9617 - val_mean_squared_logarithmic_error: 1.3447e-04\n",
      "Epoch 45/200\n",
      "192/192 [==============================] - 0s 1ms/step - loss: 27.9749 - mean_squared_logarithmic_error: 1.3370e-04 - val_loss: 31.9256 - val_mean_squared_logarithmic_error: 1.5401e-04\n",
      "Epoch 46/200\n",
      "192/192 [==============================] - 0s 1ms/step - loss: 27.1363 - mean_squared_logarithmic_error: 1.2974e-04 - val_loss: 24.4269 - val_mean_squared_logarithmic_error: 1.1750e-04\n",
      "Epoch 47/200\n",
      "192/192 [==============================] - 0s 1ms/step - loss: 28.7141 - mean_squared_logarithmic_error: 1.3715e-04 - val_loss: 23.9866 - val_mean_squared_logarithmic_error: 1.1535e-04\n",
      "Epoch 48/200\n",
      "192/192 [==============================] - 0s 1ms/step - loss: 27.6823 - mean_squared_logarithmic_error: 1.3230e-04 - val_loss: 30.4566 - val_mean_squared_logarithmic_error: 1.4651e-04\n",
      "Epoch 49/200\n",
      "192/192 [==============================] - 0s 1ms/step - loss: 31.2068 - mean_squared_logarithmic_error: 1.4908e-04 - val_loss: 28.7041 - val_mean_squared_logarithmic_error: 1.3810e-04\n",
      "Epoch 50/200\n",
      "192/192 [==============================] - 0s 1ms/step - loss: 27.3072 - mean_squared_logarithmic_error: 1.3049e-04 - val_loss: 24.9810 - val_mean_squared_logarithmic_error: 1.2015e-04\n",
      "Epoch 51/200\n",
      "192/192 [==============================] - 0s 1ms/step - loss: 28.4200 - mean_squared_logarithmic_error: 1.3599e-04 - val_loss: 24.6906 - val_mean_squared_logarithmic_error: 1.1878e-04\n",
      "Epoch 52/200\n",
      "192/192 [==============================] - 0s 1ms/step - loss: 27.5877 - mean_squared_logarithmic_error: 1.3189e-04 - val_loss: 38.1804 - val_mean_squared_logarithmic_error: 1.8442e-04\n",
      "Epoch 53/200\n",
      "192/192 [==============================] - 0s 1ms/step - loss: 28.6523 - mean_squared_logarithmic_error: 1.3709e-04 - val_loss: 24.0160 - val_mean_squared_logarithmic_error: 1.1554e-04\n",
      "Epoch 54/200\n",
      "192/192 [==============================] - 0s 1ms/step - loss: 28.6285 - mean_squared_logarithmic_error: 1.3702e-04 - val_loss: 24.9197 - val_mean_squared_logarithmic_error: 1.1987e-04\n",
      "Epoch 55/200\n",
      "192/192 [==============================] - 0s 1ms/step - loss: 27.2919 - mean_squared_logarithmic_error: 1.3048e-04 - val_loss: 32.6195 - val_mean_squared_logarithmic_error: 1.5692e-04\n",
      "Epoch 56/200\n",
      "192/192 [==============================] - 0s 1ms/step - loss: 28.2376 - mean_squared_logarithmic_error: 1.3491e-04 - val_loss: 26.2169 - val_mean_squared_logarithmic_error: 1.2617e-04\n",
      "Epoch 57/200\n",
      "192/192 [==============================] - 0s 1ms/step - loss: 29.0845 - mean_squared_logarithmic_error: 1.3915e-04 - val_loss: 25.3447 - val_mean_squared_logarithmic_error: 1.2209e-04\n",
      "Epoch 58/200\n",
      "192/192 [==============================] - 0s 1ms/step - loss: 27.8288 - mean_squared_logarithmic_error: 1.3319e-04 - val_loss: 24.3612 - val_mean_squared_logarithmic_error: 1.1721e-04\n",
      "Epoch 59/200\n",
      "192/192 [==============================] - 0s 1ms/step - loss: 28.3612 - mean_squared_logarithmic_error: 1.3564e-04 - val_loss: 27.9038 - val_mean_squared_logarithmic_error: 1.3445e-04\n",
      "Epoch 60/200\n",
      "192/192 [==============================] - 0s 1ms/step - loss: 28.1116 - mean_squared_logarithmic_error: 1.3456e-04 - val_loss: 23.9170 - val_mean_squared_logarithmic_error: 1.1504e-04\n",
      "Epoch 61/200\n",
      "192/192 [==============================] - 0s 1ms/step - loss: 27.8109 - mean_squared_logarithmic_error: 1.3311e-04 - val_loss: 28.4547 - val_mean_squared_logarithmic_error: 1.3703e-04\n",
      "Epoch 62/200\n",
      "192/192 [==============================] - 0s 1ms/step - loss: 27.7528 - mean_squared_logarithmic_error: 1.3273e-04 - val_loss: 24.5646 - val_mean_squared_logarithmic_error: 1.1825e-04\n",
      "Epoch 63/200\n",
      "192/192 [==============================] - 0s 1ms/step - loss: 26.9415 - mean_squared_logarithmic_error: 1.2875e-04 - val_loss: 24.2554 - val_mean_squared_logarithmic_error: 1.1683e-04\n",
      "Epoch 64/200\n",
      "192/192 [==============================] - 0s 1ms/step - loss: 29.6607 - mean_squared_logarithmic_error: 1.4202e-04 - val_loss: 29.0900 - val_mean_squared_logarithmic_error: 1.4023e-04\n",
      "Epoch 65/200\n",
      "192/192 [==============================] - 0s 1ms/step - loss: 28.8797 - mean_squared_logarithmic_error: 1.3817e-04 - val_loss: 24.2066 - val_mean_squared_logarithmic_error: 1.1649e-04\n",
      "Epoch 66/200\n",
      "192/192 [==============================] - 0s 1ms/step - loss: 27.7092 - mean_squared_logarithmic_error: 1.3257e-04 - val_loss: 24.0560 - val_mean_squared_logarithmic_error: 1.1582e-04\n",
      "Epoch 67/200\n",
      "192/192 [==============================] - 0s 1ms/step - loss: 28.1908 - mean_squared_logarithmic_error: 1.3478e-04 - val_loss: 26.4845 - val_mean_squared_logarithmic_error: 1.2748e-04\n",
      "Epoch 68/200\n",
      "192/192 [==============================] - 0s 2ms/step - loss: 27.6980 - mean_squared_logarithmic_error: 1.3248e-04 - val_loss: 24.1880 - val_mean_squared_logarithmic_error: 1.1642e-04\n",
      "Epoch 69/200\n",
      "192/192 [==============================] - 0s 1ms/step - loss: 27.7554 - mean_squared_logarithmic_error: 1.3273e-04 - val_loss: 24.3334 - val_mean_squared_logarithmic_error: 1.1713e-04\n",
      "Epoch 70/200\n",
      "192/192 [==============================] - 0s 1ms/step - loss: 28.2478 - mean_squared_logarithmic_error: 1.3515e-04 - val_loss: 24.0559 - val_mean_squared_logarithmic_error: 1.1580e-04\n",
      "Epoch 71/200\n",
      "192/192 [==============================] - 0s 1ms/step - loss: 29.3175 - mean_squared_logarithmic_error: 1.4033e-04 - val_loss: 31.0108 - val_mean_squared_logarithmic_error: 1.4970e-04\n",
      "Epoch 72/200\n",
      "192/192 [==============================] - 0s 1ms/step - loss: 27.8590 - mean_squared_logarithmic_error: 1.3342e-04 - val_loss: 28.0534 - val_mean_squared_logarithmic_error: 1.3503e-04\n",
      "Epoch 73/200\n",
      "192/192 [==============================] - 0s 1ms/step - loss: 27.0106 - mean_squared_logarithmic_error: 1.2909e-04 - val_loss: 27.4235 - val_mean_squared_logarithmic_error: 1.3228e-04\n",
      "Epoch 74/200\n",
      "192/192 [==============================] - 0s 1ms/step - loss: 29.2553 - mean_squared_logarithmic_error: 1.3998e-04 - val_loss: 24.9377 - val_mean_squared_logarithmic_error: 1.2006e-04\n",
      "Epoch 75/200\n",
      "192/192 [==============================] - 0s 1ms/step - loss: 27.7345 - mean_squared_logarithmic_error: 1.3271e-04 - val_loss: 24.3055 - val_mean_squared_logarithmic_error: 1.1698e-04\n",
      "Epoch 76/200\n",
      "192/192 [==============================] - 0s 1ms/step - loss: 28.1326 - mean_squared_logarithmic_error: 1.3457e-04 - val_loss: 37.1988 - val_mean_squared_logarithmic_error: 1.7873e-04\n",
      "Epoch 77/200\n",
      "192/192 [==============================] - 0s 2ms/step - loss: 27.7255 - mean_squared_logarithmic_error: 1.3270e-04 - val_loss: 24.0214 - val_mean_squared_logarithmic_error: 1.1558e-04\n",
      "Epoch 78/200\n",
      "192/192 [==============================] - 0s 2ms/step - loss: 27.4625 - mean_squared_logarithmic_error: 1.3141e-04 - val_loss: 23.8979 - val_mean_squared_logarithmic_error: 1.1498e-04\n",
      "Epoch 79/200\n",
      "192/192 [==============================] - 0s 1ms/step - loss: 28.3682 - mean_squared_logarithmic_error: 1.3559e-04 - val_loss: 37.3613 - val_mean_squared_logarithmic_error: 1.7960e-04\n",
      "Epoch 80/200\n",
      "192/192 [==============================] - 0s 2ms/step - loss: 29.0141 - mean_squared_logarithmic_error: 1.3888e-04 - val_loss: 26.8918 - val_mean_squared_logarithmic_error: 1.2948e-04\n",
      "Epoch 81/200\n",
      "192/192 [==============================] - 0s 1ms/step - loss: 29.0232 - mean_squared_logarithmic_error: 1.3874e-04 - val_loss: 26.5527 - val_mean_squared_logarithmic_error: 1.2782e-04\n",
      "Epoch 82/200\n",
      "192/192 [==============================] - 0s 1ms/step - loss: 29.1789 - mean_squared_logarithmic_error: 1.3959e-04 - val_loss: 31.8570 - val_mean_squared_logarithmic_error: 1.5324e-04\n",
      "Epoch 83/200\n"
     ]
    },
    {
     "name": "stdout",
     "output_type": "stream",
     "text": [
      "192/192 [==============================] - 0s 1ms/step - loss: 29.0302 - mean_squared_logarithmic_error: 1.3900e-04 - val_loss: 23.9130 - val_mean_squared_logarithmic_error: 1.1516e-04\n",
      "Epoch 84/200\n",
      "192/192 [==============================] - 0s 1ms/step - loss: 28.1815 - mean_squared_logarithmic_error: 1.3482e-04 - val_loss: 29.6779 - val_mean_squared_logarithmic_error: 1.4304e-04\n",
      "Epoch 85/200\n",
      "192/192 [==============================] - 0s 1ms/step - loss: 29.7436 - mean_squared_logarithmic_error: 1.4249e-04 - val_loss: 24.0209 - val_mean_squared_logarithmic_error: 1.1564e-04\n",
      "Epoch 86/200\n",
      "192/192 [==============================] - 0s 1ms/step - loss: 27.6700 - mean_squared_logarithmic_error: 1.3243e-04 - val_loss: 24.3927 - val_mean_squared_logarithmic_error: 1.1741e-04\n",
      "Epoch 87/200\n",
      "192/192 [==============================] - 0s 1ms/step - loss: 28.3146 - mean_squared_logarithmic_error: 1.3546e-04 - val_loss: 25.0555 - val_mean_squared_logarithmic_error: 1.2060e-04\n",
      "Epoch 88/200\n",
      "192/192 [==============================] - 0s 1ms/step - loss: 27.8959 - mean_squared_logarithmic_error: 1.3354e-04 - val_loss: 24.1539 - val_mean_squared_logarithmic_error: 1.1625e-04\n",
      "Epoch 89/200\n",
      "192/192 [==============================] - 0s 1ms/step - loss: 27.4606 - mean_squared_logarithmic_error: 1.3126e-04 - val_loss: 23.9265 - val_mean_squared_logarithmic_error: 1.1519e-04\n",
      "Epoch 90/200\n",
      "192/192 [==============================] - 0s 1ms/step - loss: 29.2671 - mean_squared_logarithmic_error: 1.4014e-04 - val_loss: 24.1371 - val_mean_squared_logarithmic_error: 1.1621e-04\n",
      "Epoch 91/200\n",
      "192/192 [==============================] - 0s 1ms/step - loss: 27.6016 - mean_squared_logarithmic_error: 1.3202e-04 - val_loss: 24.2896 - val_mean_squared_logarithmic_error: 1.1698e-04\n",
      "Epoch 92/200\n",
      "192/192 [==============================] - 0s 1ms/step - loss: 27.9308 - mean_squared_logarithmic_error: 1.3361e-04 - val_loss: 24.8723 - val_mean_squared_logarithmic_error: 1.1973e-04\n",
      "Epoch 93/200\n",
      "192/192 [==============================] - 0s 1ms/step - loss: 27.3763 - mean_squared_logarithmic_error: 1.3098e-04 - val_loss: 27.8356 - val_mean_squared_logarithmic_error: 1.3415e-04\n",
      "Epoch 94/200\n",
      "192/192 [==============================] - 0s 1ms/step - loss: 28.9959 - mean_squared_logarithmic_error: 1.3876e-04 - val_loss: 23.9175 - val_mean_squared_logarithmic_error: 1.1522e-04\n",
      "Epoch 95/200\n",
      "192/192 [==============================] - 0s 1ms/step - loss: 26.8369 - mean_squared_logarithmic_error: 1.2852e-04 - val_loss: 24.9647 - val_mean_squared_logarithmic_error: 1.2021e-04\n",
      "Epoch 96/200\n",
      "192/192 [==============================] - 0s 1ms/step - loss: 28.9243 - mean_squared_logarithmic_error: 1.3836e-04 - val_loss: 27.5543 - val_mean_squared_logarithmic_error: 1.3264e-04\n",
      "Epoch 97/200\n",
      "192/192 [==============================] - 0s 1ms/step - loss: 28.5689 - mean_squared_logarithmic_error: 1.3662e-04 - val_loss: 43.2141 - val_mean_squared_logarithmic_error: 2.0745e-04\n",
      "Epoch 98/200\n",
      "192/192 [==============================] - 0s 1ms/step - loss: 29.2160 - mean_squared_logarithmic_error: 1.3993e-04 - val_loss: 24.1473 - val_mean_squared_logarithmic_error: 1.1616e-04\n",
      "Epoch 99/200\n",
      "192/192 [==============================] - 0s 1ms/step - loss: 27.8883 - mean_squared_logarithmic_error: 1.3339e-04 - val_loss: 24.0688 - val_mean_squared_logarithmic_error: 1.1581e-04\n",
      "Epoch 100/200\n",
      "192/192 [==============================] - 0s 1ms/step - loss: 28.0046 - mean_squared_logarithmic_error: 1.3394e-04 - val_loss: 24.3534 - val_mean_squared_logarithmic_error: 1.1721e-04\n",
      "Epoch 101/200\n",
      "192/192 [==============================] - 0s 1ms/step - loss: 27.9983 - mean_squared_logarithmic_error: 1.3392e-04 - val_loss: 24.0912 - val_mean_squared_logarithmic_error: 1.1593e-04\n",
      "Epoch 102/200\n",
      "192/192 [==============================] - 0s 1ms/step - loss: 26.8274 - mean_squared_logarithmic_error: 1.2833e-04 - val_loss: 24.5584 - val_mean_squared_logarithmic_error: 1.1824e-04\n",
      "Epoch 103/200\n",
      "192/192 [==============================] - 0s 1ms/step - loss: 28.1665 - mean_squared_logarithmic_error: 1.3474e-04 - val_loss: 26.9797 - val_mean_squared_logarithmic_error: 1.3009e-04\n",
      "Epoch 104/200\n",
      "192/192 [==============================] - 0s 1ms/step - loss: 27.8810 - mean_squared_logarithmic_error: 1.3351e-04 - val_loss: 28.5141 - val_mean_squared_logarithmic_error: 1.3730e-04\n",
      "Epoch 105/200\n",
      "192/192 [==============================] - 0s 2ms/step - loss: 27.6245 - mean_squared_logarithmic_error: 1.3198e-04 - val_loss: 29.9388 - val_mean_squared_logarithmic_error: 1.4441e-04\n",
      "Epoch 106/200\n",
      "192/192 [==============================] - 0s 1ms/step - loss: 28.4804 - mean_squared_logarithmic_error: 1.3631e-04 - val_loss: 28.2973 - val_mean_squared_logarithmic_error: 1.3636e-04\n",
      "Epoch 107/200\n",
      "192/192 [==============================] - 0s 1ms/step - loss: 28.9988 - mean_squared_logarithmic_error: 1.3877e-04 - val_loss: 23.9167 - val_mean_squared_logarithmic_error: 1.1511e-04\n",
      "Epoch 108/200\n",
      "192/192 [==============================] - 0s 1ms/step - loss: 30.0926 - mean_squared_logarithmic_error: 1.4403e-04 - val_loss: 29.3816 - val_mean_squared_logarithmic_error: 1.4187e-04\n",
      "Epoch 109/200\n",
      "192/192 [==============================] - 0s 1ms/step - loss: 29.5947 - mean_squared_logarithmic_error: 1.4158e-04 - val_loss: 29.5207 - val_mean_squared_logarithmic_error: 1.4208e-04\n",
      "Epoch 110/200\n",
      "192/192 [==============================] - 0s 2ms/step - loss: 27.8485 - mean_squared_logarithmic_error: 1.3324e-04 - val_loss: 24.0659 - val_mean_squared_logarithmic_error: 1.1584e-04\n",
      "Epoch 111/200\n",
      "192/192 [==============================] - 0s 1ms/step - loss: 27.8515 - mean_squared_logarithmic_error: 1.3335e-04 - val_loss: 23.9002 - val_mean_squared_logarithmic_error: 1.1511e-04\n",
      "Epoch 112/200\n",
      "192/192 [==============================] - 0s 1ms/step - loss: 28.3885 - mean_squared_logarithmic_error: 1.3591e-04 - val_loss: 24.7842 - val_mean_squared_logarithmic_error: 1.1943e-04\n",
      "Epoch 113/200\n",
      "192/192 [==============================] - 0s 1ms/step - loss: 28.3842 - mean_squared_logarithmic_error: 1.3581e-04 - val_loss: 23.9132 - val_mean_squared_logarithmic_error: 1.1515e-04\n",
      "Epoch 114/200\n",
      "192/192 [==============================] - 0s 1ms/step - loss: 28.2133 - mean_squared_logarithmic_error: 1.3497e-04 - val_loss: 32.0131 - val_mean_squared_logarithmic_error: 1.5471e-04\n",
      "Epoch 115/200\n",
      "192/192 [==============================] - 0s 1ms/step - loss: 27.9609 - mean_squared_logarithmic_error: 1.3379e-04 - val_loss: 24.0270 - val_mean_squared_logarithmic_error: 1.1572e-04\n",
      "Epoch 116/200\n",
      "192/192 [==============================] - 0s 1ms/step - loss: 27.2915 - mean_squared_logarithmic_error: 1.3061e-04 - val_loss: 23.8941 - val_mean_squared_logarithmic_error: 1.1502e-04\n",
      "Epoch 117/200\n",
      "192/192 [==============================] - 0s 1ms/step - loss: 27.5007 - mean_squared_logarithmic_error: 1.3167e-04 - val_loss: 24.5147 - val_mean_squared_logarithmic_error: 1.1805e-04\n",
      "Epoch 118/200\n",
      "192/192 [==============================] - 0s 1ms/step - loss: 27.8778 - mean_squared_logarithmic_error: 1.3337e-04 - val_loss: 24.0009 - val_mean_squared_logarithmic_error: 1.1556e-04\n",
      "Epoch 119/200\n",
      "192/192 [==============================] - 0s 1ms/step - loss: 27.3825 - mean_squared_logarithmic_error: 1.3089e-04 - val_loss: 28.0085 - val_mean_squared_logarithmic_error: 1.3481e-04\n",
      "Epoch 120/200\n",
      "192/192 [==============================] - 0s 1ms/step - loss: 27.7895 - mean_squared_logarithmic_error: 1.3296e-04 - val_loss: 24.3874 - val_mean_squared_logarithmic_error: 1.1731e-04\n",
      "Epoch 121/200\n",
      "192/192 [==============================] - 0s 1ms/step - loss: 27.3665 - mean_squared_logarithmic_error: 1.3090e-04 - val_loss: 26.1103 - val_mean_squared_logarithmic_error: 1.2570e-04\n",
      "Epoch 122/200\n",
      "192/192 [==============================] - 0s 1ms/step - loss: 29.2580 - mean_squared_logarithmic_error: 1.4008e-04 - val_loss: 46.3897 - val_mean_squared_logarithmic_error: 2.2263e-04\n",
      "Epoch 123/200\n",
      "192/192 [==============================] - 0s 1ms/step - loss: 27.5113 - mean_squared_logarithmic_error: 1.3146e-04 - val_loss: 23.9670 - val_mean_squared_logarithmic_error: 1.1540e-04\n",
      "Epoch 124/200\n"
     ]
    },
    {
     "name": "stdout",
     "output_type": "stream",
     "text": [
      "192/192 [==============================] - 0s 1ms/step - loss: 27.5883 - mean_squared_logarithmic_error: 1.3194e-04 - val_loss: 26.3882 - val_mean_squared_logarithmic_error: 1.2705e-04\n",
      "Epoch 125/200\n",
      "192/192 [==============================] - 0s 1ms/step - loss: 28.5375 - mean_squared_logarithmic_error: 1.3650e-04 - val_loss: 28.7538 - val_mean_squared_logarithmic_error: 1.3874e-04\n",
      "Epoch 126/200\n",
      "192/192 [==============================] - 0s 1ms/step - loss: 27.8921 - mean_squared_logarithmic_error: 1.3346e-04 - val_loss: 23.9082 - val_mean_squared_logarithmic_error: 1.1516e-04\n",
      "Epoch 127/200\n",
      "192/192 [==============================] - 0s 1ms/step - loss: 28.4021 - mean_squared_logarithmic_error: 1.3598e-04 - val_loss: 24.7884 - val_mean_squared_logarithmic_error: 1.1934e-04\n",
      "Epoch 128/200\n",
      "192/192 [==============================] - 0s 2ms/step - loss: 30.5118 - mean_squared_logarithmic_error: 1.4614e-04 - val_loss: 23.8994 - val_mean_squared_logarithmic_error: 1.1509e-04\n",
      "Epoch 129/200\n",
      "192/192 [==============================] - 0s 1ms/step - loss: 27.3859 - mean_squared_logarithmic_error: 1.3099e-04 - val_loss: 32.1922 - val_mean_squared_logarithmic_error: 1.5533e-04\n",
      "Epoch 130/200\n",
      "192/192 [==============================] - 0s 1ms/step - loss: 28.1862 - mean_squared_logarithmic_error: 1.3474e-04 - val_loss: 24.2340 - val_mean_squared_logarithmic_error: 1.1668e-04\n",
      "Epoch 131/200\n",
      "192/192 [==============================] - 0s 1ms/step - loss: 27.6398 - mean_squared_logarithmic_error: 1.3238e-04 - val_loss: 25.4506 - val_mean_squared_logarithmic_error: 1.2258e-04\n",
      "Epoch 132/200\n",
      "192/192 [==============================] - 0s 1ms/step - loss: 27.8121 - mean_squared_logarithmic_error: 1.3315e-04 - val_loss: 24.7714 - val_mean_squared_logarithmic_error: 1.1915e-04\n",
      "Epoch 133/200\n",
      "192/192 [==============================] - 0s 1ms/step - loss: 28.1194 - mean_squared_logarithmic_error: 1.3438e-04 - val_loss: 24.7367 - val_mean_squared_logarithmic_error: 1.1909e-04\n",
      "Epoch 134/200\n",
      "192/192 [==============================] - 0s 2ms/step - loss: 29.2269 - mean_squared_logarithmic_error: 1.3986e-04 - val_loss: 36.8517 - val_mean_squared_logarithmic_error: 1.7798e-04\n",
      "Epoch 135/200\n",
      "192/192 [==============================] - 0s 1ms/step - loss: 29.5971 - mean_squared_logarithmic_error: 1.4175e-04 - val_loss: 29.8870 - val_mean_squared_logarithmic_error: 1.4378e-04\n",
      "Epoch 136/200\n",
      "192/192 [==============================] - 0s 1ms/step - loss: 28.4649 - mean_squared_logarithmic_error: 1.3612e-04 - val_loss: 39.1450 - val_mean_squared_logarithmic_error: 1.8927e-04\n",
      "Epoch 137/200\n",
      "192/192 [==============================] - 0s 1ms/step - loss: 27.8694 - mean_squared_logarithmic_error: 1.3334e-04 - val_loss: 28.7965 - val_mean_squared_logarithmic_error: 1.3859e-04\n",
      "Epoch 138/200\n",
      "192/192 [==============================] - 0s 2ms/step - loss: 28.0520 - mean_squared_logarithmic_error: 1.3431e-04 - val_loss: 24.3701 - val_mean_squared_logarithmic_error: 1.1730e-04\n",
      "Epoch 139/200\n",
      "192/192 [==============================] - 0s 1ms/step - loss: 27.3719 - mean_squared_logarithmic_error: 1.3078e-04 - val_loss: 28.0818 - val_mean_squared_logarithmic_error: 1.3529e-04\n",
      "Epoch 140/200\n",
      "192/192 [==============================] - 0s 2ms/step - loss: 28.8981 - mean_squared_logarithmic_error: 1.3823e-04 - val_loss: 24.9364 - val_mean_squared_logarithmic_error: 1.2005e-04\n",
      "Epoch 141/200\n",
      "192/192 [==============================] - 0s 1ms/step - loss: 29.3093 - mean_squared_logarithmic_error: 1.4019e-04 - val_loss: 30.4540 - val_mean_squared_logarithmic_error: 1.4693e-04\n",
      "Epoch 142/200\n",
      "192/192 [==============================] - 0s 1ms/step - loss: 28.4330 - mean_squared_logarithmic_error: 1.3623e-04 - val_loss: 24.1349 - val_mean_squared_logarithmic_error: 1.1621e-04\n",
      "Epoch 143/200\n",
      "192/192 [==============================] - 0s 2ms/step - loss: 27.3753 - mean_squared_logarithmic_error: 1.3095e-04 - val_loss: 27.9708 - val_mean_squared_logarithmic_error: 1.3463e-04\n",
      "Epoch 144/200\n",
      "192/192 [==============================] - 0s 1ms/step - loss: 28.1597 - mean_squared_logarithmic_error: 1.3475e-04 - val_loss: 24.3510 - val_mean_squared_logarithmic_error: 1.1727e-04\n",
      "Epoch 145/200\n",
      "192/192 [==============================] - 0s 2ms/step - loss: 27.4659 - mean_squared_logarithmic_error: 1.3135e-04 - val_loss: 26.4858 - val_mean_squared_logarithmic_error: 1.2762e-04\n",
      "Epoch 146/200\n",
      "192/192 [==============================] - 0s 1ms/step - loss: 28.1845 - mean_squared_logarithmic_error: 1.3485e-04 - val_loss: 27.4225 - val_mean_squared_logarithmic_error: 1.3202e-04\n",
      "Epoch 147/200\n",
      "192/192 [==============================] - 0s 1ms/step - loss: 27.8804 - mean_squared_logarithmic_error: 1.3345e-04 - val_loss: 25.6619 - val_mean_squared_logarithmic_error: 1.2355e-04\n",
      "Epoch 148/200\n",
      "192/192 [==============================] - 0s 1ms/step - loss: 27.1241 - mean_squared_logarithmic_error: 1.2974e-04 - val_loss: 24.1380 - val_mean_squared_logarithmic_error: 1.1620e-04\n",
      "Epoch 149/200\n",
      "192/192 [==============================] - 0s 1ms/step - loss: 27.6811 - mean_squared_logarithmic_error: 1.3250e-04 - val_loss: 27.2682 - val_mean_squared_logarithmic_error: 1.3141e-04\n",
      "Epoch 150/200\n",
      "192/192 [==============================] - 0s 1ms/step - loss: 27.9763 - mean_squared_logarithmic_error: 1.3385e-04 - val_loss: 24.1242 - val_mean_squared_logarithmic_error: 1.1617e-04\n",
      "Epoch 151/200\n",
      "192/192 [==============================] - 0s 1ms/step - loss: 28.2911 - mean_squared_logarithmic_error: 1.3560e-04 - val_loss: 25.8438 - val_mean_squared_logarithmic_error: 1.2442e-04\n",
      "Epoch 152/200\n",
      "192/192 [==============================] - 0s 1ms/step - loss: 27.8671 - mean_squared_logarithmic_error: 1.3329e-04 - val_loss: 24.3166 - val_mean_squared_logarithmic_error: 1.1700e-04\n",
      "Epoch 153/200\n",
      "192/192 [==============================] - 0s 1ms/step - loss: 28.3200 - mean_squared_logarithmic_error: 1.3558e-04 - val_loss: 29.9258 - val_mean_squared_logarithmic_error: 1.4397e-04\n",
      "Epoch 154/200\n",
      "192/192 [==============================] - 0s 1ms/step - loss: 27.9151 - mean_squared_logarithmic_error: 1.3360e-04 - val_loss: 24.3305 - val_mean_squared_logarithmic_error: 1.1711e-04\n",
      "Epoch 155/200\n",
      "192/192 [==============================] - 0s 1ms/step - loss: 27.3523 - mean_squared_logarithmic_error: 1.3074e-04 - val_loss: 25.0956 - val_mean_squared_logarithmic_error: 1.2081e-04\n",
      "Epoch 156/200\n",
      "192/192 [==============================] - 0s 1ms/step - loss: 27.3122 - mean_squared_logarithmic_error: 1.3067e-04 - val_loss: 24.7749 - val_mean_squared_logarithmic_error: 1.1924e-04\n",
      "Epoch 157/200\n",
      "192/192 [==============================] - 0s 1ms/step - loss: 27.8733 - mean_squared_logarithmic_error: 1.3326e-04 - val_loss: 28.0462 - val_mean_squared_logarithmic_error: 1.3518e-04\n",
      "Epoch 158/200\n",
      "192/192 [==============================] - 0s 1ms/step - loss: 27.3330 - mean_squared_logarithmic_error: 1.3070e-04 - val_loss: 25.4512 - val_mean_squared_logarithmic_error: 1.2256e-04\n",
      "Epoch 159/200\n",
      "192/192 [==============================] - 0s 2ms/step - loss: 27.7117 - mean_squared_logarithmic_error: 1.3249e-04 - val_loss: 23.8758 - val_mean_squared_logarithmic_error: 1.1492e-04\n",
      "Epoch 160/200\n",
      "192/192 [==============================] - 0s 1ms/step - loss: 27.8208 - mean_squared_logarithmic_error: 1.3303e-04 - val_loss: 23.8905 - val_mean_squared_logarithmic_error: 1.1502e-04\n",
      "Epoch 161/200\n",
      "192/192 [==============================] - 0s 1ms/step - loss: 28.0632 - mean_squared_logarithmic_error: 1.3417e-04 - val_loss: 28.7152 - val_mean_squared_logarithmic_error: 1.3851e-04\n",
      "Epoch 162/200\n",
      "192/192 [==============================] - 0s 1ms/step - loss: 29.8163 - mean_squared_logarithmic_error: 1.4283e-04 - val_loss: 24.0474 - val_mean_squared_logarithmic_error: 1.1573e-04\n",
      "Epoch 163/200\n",
      "192/192 [==============================] - 0s 1ms/step - loss: 28.1302 - mean_squared_logarithmic_error: 1.3461e-04 - val_loss: 28.5304 - val_mean_squared_logarithmic_error: 1.3749e-04\n",
      "Epoch 164/200\n",
      "192/192 [==============================] - 0s 2ms/step - loss: 29.0021 - mean_squared_logarithmic_error: 1.3882e-04 - val_loss: 35.9337 - val_mean_squared_logarithmic_error: 1.7327e-04\n",
      "Epoch 165/200\n"
     ]
    },
    {
     "name": "stdout",
     "output_type": "stream",
     "text": [
      "192/192 [==============================] - 0s 1ms/step - loss: 27.4314 - mean_squared_logarithmic_error: 1.3117e-04 - val_loss: 27.3107 - val_mean_squared_logarithmic_error: 1.3147e-04\n",
      "Epoch 166/200\n",
      "192/192 [==============================] - 0s 1ms/step - loss: 27.5798 - mean_squared_logarithmic_error: 1.3197e-04 - val_loss: 25.6684 - val_mean_squared_logarithmic_error: 1.2357e-04\n",
      "Epoch 167/200\n",
      "192/192 [==============================] - 0s 1ms/step - loss: 29.3068 - mean_squared_logarithmic_error: 1.4035e-04 - val_loss: 54.4436 - val_mean_squared_logarithmic_error: 2.6426e-04\n",
      "Epoch 168/200\n",
      "192/192 [==============================] - 0s 1ms/step - loss: 28.4753 - mean_squared_logarithmic_error: 1.3627e-04 - val_loss: 27.9730 - val_mean_squared_logarithmic_error: 1.3480e-04\n",
      "Epoch 169/200\n",
      "192/192 [==============================] - 0s 1ms/step - loss: 28.7963 - mean_squared_logarithmic_error: 1.3793e-04 - val_loss: 24.8306 - val_mean_squared_logarithmic_error: 1.1954e-04\n",
      "Epoch 170/200\n",
      "192/192 [==============================] - 0s 2ms/step - loss: 29.1838 - mean_squared_logarithmic_error: 1.3950e-04 - val_loss: 26.7264 - val_mean_squared_logarithmic_error: 1.2884e-04\n",
      "Epoch 171/200\n",
      "192/192 [==============================] - 0s 1ms/step - loss: 27.3104 - mean_squared_logarithmic_error: 1.3065e-04 - val_loss: 28.8598 - val_mean_squared_logarithmic_error: 1.3886e-04\n",
      "Epoch 172/200\n",
      "192/192 [==============================] - 0s 1ms/step - loss: 28.0989 - mean_squared_logarithmic_error: 1.3444e-04 - val_loss: 24.1832 - val_mean_squared_logarithmic_error: 1.1644e-04\n",
      "Epoch 173/200\n",
      "192/192 [==============================] - 0s 1ms/step - loss: 27.6612 - mean_squared_logarithmic_error: 1.3247e-04 - val_loss: 25.0843 - val_mean_squared_logarithmic_error: 1.2068e-04\n",
      "Epoch 174/200\n",
      "192/192 [==============================] - 0s 1ms/step - loss: 27.4848 - mean_squared_logarithmic_error: 1.3139e-04 - val_loss: 24.1726 - val_mean_squared_logarithmic_error: 1.1639e-04\n",
      "Epoch 175/200\n",
      "192/192 [==============================] - 0s 1ms/step - loss: 27.8031 - mean_squared_logarithmic_error: 1.3300e-04 - val_loss: 28.1259 - val_mean_squared_logarithmic_error: 1.3540e-04\n",
      "Epoch 176/200\n",
      "192/192 [==============================] - 0s 2ms/step - loss: 27.6123 - mean_squared_logarithmic_error: 1.3210e-04 - val_loss: 24.1212 - val_mean_squared_logarithmic_error: 1.1610e-04\n",
      "Epoch 177/200\n",
      "192/192 [==============================] - 0s 1ms/step - loss: 28.0358 - mean_squared_logarithmic_error: 1.3417e-04 - val_loss: 38.3964 - val_mean_squared_logarithmic_error: 1.8457e-04\n",
      "Epoch 178/200\n",
      "192/192 [==============================] - 0s 2ms/step - loss: 27.8417 - mean_squared_logarithmic_error: 1.3303e-04 - val_loss: 26.4750 - val_mean_squared_logarithmic_error: 1.2766e-04\n",
      "Epoch 179/200\n",
      "192/192 [==============================] - 0s 1ms/step - loss: 27.8993 - mean_squared_logarithmic_error: 1.3344e-04 - val_loss: 24.6230 - val_mean_squared_logarithmic_error: 1.1853e-04\n",
      "Epoch 180/200\n",
      "192/192 [==============================] - 0s 1ms/step - loss: 27.8026 - mean_squared_logarithmic_error: 1.3297e-04 - val_loss: 23.9721 - val_mean_squared_logarithmic_error: 1.1543e-04\n",
      "Epoch 181/200\n",
      "192/192 [==============================] - 0s 1ms/step - loss: 27.9028 - mean_squared_logarithmic_error: 1.3335e-04 - val_loss: 26.8138 - val_mean_squared_logarithmic_error: 1.2907e-04\n",
      "Epoch 182/200\n",
      "192/192 [==============================] - 0s 1ms/step - loss: 28.2692 - mean_squared_logarithmic_error: 1.3504e-04 - val_loss: 31.3243 - val_mean_squared_logarithmic_error: 1.5065e-04\n",
      "Epoch 183/200\n",
      "192/192 [==============================] - 0s 1ms/step - loss: 27.5973 - mean_squared_logarithmic_error: 1.3203e-04 - val_loss: 26.3256 - val_mean_squared_logarithmic_error: 1.2672e-04\n",
      "Epoch 184/200\n",
      "192/192 [==============================] - 0s 1ms/step - loss: 28.8636 - mean_squared_logarithmic_error: 1.3814e-04 - val_loss: 24.8455 - val_mean_squared_logarithmic_error: 1.1960e-04\n",
      "Epoch 185/200\n",
      "192/192 [==============================] - 0s 1ms/step - loss: 29.0815 - mean_squared_logarithmic_error: 1.3910e-04 - val_loss: 26.5446 - val_mean_squared_logarithmic_error: 1.2790e-04\n",
      "Epoch 186/200\n",
      "192/192 [==============================] - 0s 1ms/step - loss: 29.7983 - mean_squared_logarithmic_error: 1.4244e-04 - val_loss: 25.2710 - val_mean_squared_logarithmic_error: 1.2179e-04\n",
      "Epoch 187/200\n",
      "192/192 [==============================] - 0s 1ms/step - loss: 27.9170 - mean_squared_logarithmic_error: 1.3356e-04 - val_loss: 24.1520 - val_mean_squared_logarithmic_error: 1.1625e-04\n",
      "Epoch 188/200\n",
      "192/192 [==============================] - 0s 1ms/step - loss: 27.9801 - mean_squared_logarithmic_error: 1.3393e-04 - val_loss: 24.0782 - val_mean_squared_logarithmic_error: 1.1591e-04\n",
      "Epoch 189/200\n",
      "192/192 [==============================] - 0s 1ms/step - loss: 30.0472 - mean_squared_logarithmic_error: 1.4377e-04 - val_loss: 26.7599 - val_mean_squared_logarithmic_error: 1.2897e-04\n",
      "Epoch 190/200\n",
      "192/192 [==============================] - 0s 1ms/step - loss: 28.2137 - mean_squared_logarithmic_error: 1.3505e-04 - val_loss: 24.9743 - val_mean_squared_logarithmic_error: 1.2022e-04\n",
      "Epoch 191/200\n",
      "192/192 [==============================] - 0s 1ms/step - loss: 28.2371 - mean_squared_logarithmic_error: 1.3513e-04 - val_loss: 33.1916 - val_mean_squared_logarithmic_error: 1.6013e-04\n",
      "Epoch 192/200\n",
      "192/192 [==============================] - 0s 1ms/step - loss: 28.8769 - mean_squared_logarithmic_error: 1.3825e-04 - val_loss: 25.4062 - val_mean_squared_logarithmic_error: 1.2236e-04\n",
      "Epoch 193/200\n",
      "192/192 [==============================] - 0s 1ms/step - loss: 27.5008 - mean_squared_logarithmic_error: 1.3154e-04 - val_loss: 25.6845 - val_mean_squared_logarithmic_error: 1.2365e-04\n",
      "Epoch 194/200\n",
      "192/192 [==============================] - 0s 1ms/step - loss: 27.9175 - mean_squared_logarithmic_error: 1.3352e-04 - val_loss: 25.6599 - val_mean_squared_logarithmic_error: 1.2354e-04\n",
      "Epoch 195/200\n",
      "192/192 [==============================] - 0s 2ms/step - loss: 27.6787 - mean_squared_logarithmic_error: 1.3238e-04 - val_loss: 23.8885 - val_mean_squared_logarithmic_error: 1.1508e-04\n",
      "Epoch 196/200\n",
      "192/192 [==============================] - 0s 1ms/step - loss: 26.7225 - mean_squared_logarithmic_error: 1.2786e-04 - val_loss: 24.2620 - val_mean_squared_logarithmic_error: 1.1681e-04\n",
      "Epoch 197/200\n",
      "192/192 [==============================] - 0s 1ms/step - loss: 27.8481 - mean_squared_logarithmic_error: 1.3338e-04 - val_loss: 26.2458 - val_mean_squared_logarithmic_error: 1.2632e-04\n",
      "Epoch 198/200\n",
      "192/192 [==============================] - 0s 1ms/step - loss: 27.9569 - mean_squared_logarithmic_error: 1.3371e-04 - val_loss: 23.8773 - val_mean_squared_logarithmic_error: 1.1498e-04\n",
      "Epoch 199/200\n",
      "192/192 [==============================] - 0s 1ms/step - loss: 27.5350 - mean_squared_logarithmic_error: 1.3163e-04 - val_loss: 23.8732 - val_mean_squared_logarithmic_error: 1.1493e-04\n",
      "Epoch 200/200\n",
      "192/192 [==============================] - 0s 1ms/step - loss: 29.0339 - mean_squared_logarithmic_error: 1.3904e-04 - val_loss: 30.0771 - val_mean_squared_logarithmic_error: 1.4502e-04\n"
     ]
    }
   ],
   "source": [
    "classifier.compile(optimizer = 'adam', loss = 'mean_squared_error', metrics = ['MeanSquaredLogarithmicError'])\n",
    "\n",
    "# Fitting the ANN to the Training set\n",
    "model = classifier.fit(X_train, y_train, batch_size = 32, epochs = 200,validation_data=(X_val, y_val),\n",
    "              shuffle=True)"
   ]
  },
  {
   "cell_type": "markdown",
   "metadata": {
    "id": "55PgRgP0rZ8A"
   },
   "source": [
    "#**Testing the Model**"
   ]
  },
  {
   "cell_type": "code",
   "execution_count": 15,
   "metadata": {
    "colab": {
     "base_uri": "https://localhost:8080/"
    },
    "executionInfo": {
     "elapsed": 1064,
     "status": "ok",
     "timestamp": 1684212265896,
     "user": {
      "displayName": "KARNATI MOHAN",
      "userId": "16604712269571437600"
     },
     "user_tz": -330
    },
    "id": "VPqoEf0VmVx0",
    "outputId": "a138b2c4-f4db-4e9a-c06d-f42bbfe322d9"
   },
   "outputs": [
    {
     "name": "stdout",
     "output_type": "stream",
     "text": [
      "[[429.83 429.5 ]\n",
      " [468.24 469.33]\n",
      " [432.   432.64]\n",
      " ...\n",
      " [463.52 461.5 ]\n",
      " [432.98 432.88]\n",
      " [474.95 490.03]]\n"
     ]
    }
   ],
   "source": [
    "y_pred = classifier.predict(X_test)\n",
    "np.set_printoptions(precision=2)\n",
    "print(np.concatenate((y_pred.reshape(len(y_pred),1), y_test.reshape(len(y_test),1)),1))"
   ]
  },
  {
   "cell_type": "markdown",
   "metadata": {
    "id": "yPzDW1yuWGfP"
   },
   "source": [
    "#**Metric values**\n",
    "\n",
    "**MAE (Mean Absolute Error) :-**\n",
    "\n",
    "$$MAE = (\\frac{1}{n})\\sum_{i=1}^{n}\\left | y_{i} - \\hat y_{i} \\right |$$\n",
    "\n",
    "**MSE (Mean Square Error) :-**\n",
    "\n",
    "$$MSE = (\\frac{1}{n})\\sum_{i=1}^{n}\\left ( y_{i} - \\hat y_{i} \\right )^2$$\n",
    "\n",
    "where y = actual value in the data set ;  $\\hat y$ = value computed by solving the regression equation\n",
    "\n",
    "**RMSE (Root Mean Square Error) :-**\n",
    "\n",
    "$$RMSE = \\sqrt{(\\frac{1}{n})\\sum_{i=1}^{n}\\left ( y_{i} - \\hat y_{i} \\right )^2}$$\n"
   ]
  },
  {
   "cell_type": "code",
   "execution_count": 16,
   "metadata": {
    "executionInfo": {
     "elapsed": 18,
     "status": "ok",
     "timestamp": 1684212265897,
     "user": {
      "displayName": "KARNATI MOHAN",
      "userId": "16604712269571437600"
     },
     "user_tz": -330
    },
    "id": "csYqpviWXRY2"
   },
   "outputs": [],
   "source": [
    "import matplotlib.pyplot as plt\n",
    "%matplotlib inline"
   ]
  },
  {
   "cell_type": "code",
   "execution_count": 17,
   "metadata": {
    "colab": {
     "base_uri": "https://localhost:8080/"
    },
    "executionInfo": {
     "elapsed": 18,
     "status": "ok",
     "timestamp": 1684212265898,
     "user": {
      "displayName": "KARNATI MOHAN",
      "userId": "16604712269571437600"
     },
     "user_tz": -330
    },
    "id": "jVhrXBFOXRa-",
    "outputId": "051d8561-1948-494e-f505-3348850528cd"
   },
   "outputs": [],
   "source": [
    "import sklearn.metrics\n",
    "from math import sqrt\n",
    "mae_no = sklearn.metrics.mean_absolute_error(y_test,classifier.predict(X_test))\n",
    "mse_no = sklearn.metrics.mean_squared_error(y_test,classifier.predict(X_test))\n",
    "rms = sqrt(sklearn.metrics.mean_squared_error(y_test,classifier.predict(X_test)))"
   ]
  },
  {
   "cell_type": "code",
   "execution_count": 18,
   "metadata": {
    "colab": {
     "base_uri": "https://localhost:8080/"
    },
    "executionInfo": {
     "elapsed": 14,
     "status": "ok",
     "timestamp": 1684212265900,
     "user": {
      "displayName": "KARNATI MOHAN",
      "userId": "16604712269571437600"
     },
     "user_tz": -330
    },
    "id": "OjxSyJCdXRdF",
    "outputId": "3880a46f-9281-4d60-fee3-afda8364c28a"
   },
   "outputs": [
    {
     "name": "stdout",
     "output_type": "stream",
     "text": [
      "Mean Absolute Error     : 4.296689066632788\n",
      "Mean Square Error       : 30.78699743152468\n",
      "Root Mean Square Error: 5.5486031964382425\n"
     ]
    }
   ],
   "source": [
    "print('Mean Absolute Error     :',mae_no)\n",
    "print('Mean Square Error       :',mse_no)\n",
    "print('Root Mean Square Error:', rms)"
   ]
  },
  {
   "cell_type": "code",
   "execution_count": null,
   "metadata": {
    "executionInfo": {
     "elapsed": 11,
     "status": "ok",
     "timestamp": 1684212265901,
     "user": {
      "displayName": "KARNATI MOHAN",
      "userId": "16604712269571437600"
     },
     "user_tz": -330
    },
    "id": "ZGZUEXZsYEln"
   },
   "outputs": [],
   "source": []
  },
  {
   "cell_type": "code",
   "execution_count": null,
   "metadata": {},
   "outputs": [],
   "source": []
  }
 ],
 "metadata": {
  "colab": {
   "authorship_tag": "ABX9TyMQ/yiqpYN1n/ddVQHFRYtr",
   "mount_file_id": "1Bts0rBVZvvKmIKxz1cqwyClA0oksLWTf",
   "provenance": []
  },
  "kernelspec": {
   "display_name": "Python 3 (ipykernel)",
   "language": "python",
   "name": "python3"
  },
  "language_info": {
   "codemirror_mode": {
    "name": "ipython",
    "version": 3
   },
   "file_extension": ".py",
   "mimetype": "text/x-python",
   "name": "python",
   "nbconvert_exporter": "python",
   "pygments_lexer": "ipython3",
   "version": "3.9.7"
  }
 },
 "nbformat": 4,
 "nbformat_minor": 1
}
